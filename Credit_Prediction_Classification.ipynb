{
  "nbformat": 4,
  "nbformat_minor": 0,
  "metadata": {
    "kernelspec": {
      "name": "python3",
      "display_name": "Python 3"
    },
    "language_info": {
      "codemirror_mode": {
        "name": "ipython",
        "version": 3
      },
      "file_extension": ".py",
      "mimetype": "text/x-python",
      "name": "python",
      "nbconvert_exporter": "python",
      "pygments_lexer": "ipython3",
      "version": "3.6.5"
    },
    "colab": {
      "name": "Credit_Prediction_Classification.ipynb",
      "provenance": [],
      "collapsed_sections": [],
      "include_colab_link": true
    },
    "accelerator": "GPU"
  },
  "cells": [
    {
      "cell_type": "markdown",
      "metadata": {
        "id": "view-in-github",
        "colab_type": "text"
      },
      "source": [
        "<a href=\"https://colab.research.google.com/github/gullsherk/Dataset/blob/master/Credit_Prediction_Classification.ipynb\" target=\"_parent\"><img src=\"https://colab.research.google.com/assets/colab-badge.svg\" alt=\"Open In Colab\"/></a>"
      ]
    },
    {
      "cell_type": "markdown",
      "metadata": {
        "id": "9bu6w85gbUrr",
        "colab_type": "text"
      },
      "source": [
        "# Pre Processing\n"
      ]
    },
    {
      "cell_type": "code",
      "metadata": {
        "id": "LctOXcVuvsuj",
        "colab_type": "code",
        "outputId": "c64e994d-4428-4f37-a2b4-83d22cc66b05",
        "colab": {
          "base_uri": "https://localhost:8080/",
          "height": 128
        }
      },
      "source": [
        "import pandas as pd\n",
        "import matplotlib.pyplot as plt\n",
        "import numpy as np\n",
        "import seaborn as sn\n",
        "from sklearn import preprocessing\n",
        "import plotly.offline as py \n",
        "from sklearn.preprocessing import LabelEncoder\n",
        "from sklearn.model_selection import train_test_split, KFold, cross_val_score, StratifiedKFold\n",
        "import xgboost as xgb\n",
        "from sklearn.metrics import mean_squared_error\n",
        "from sklearn.metrics import confusion_matrix\n",
        "from sklearn.metrics import accuracy_score\n",
        "from sklearn.metrics import roc_curve\n",
        "from sklearn.metrics import roc_auc_score\n",
        "import matplotlib.pyplot as plt\n",
        "from sklearn import model_selection\n",
        "from fancyimpute import BiScaler, KNN, NuclearNormMinimization, SoftImpute\n",
        "from sklearn.model_selection import GridSearchCV\n",
        "\n",
        "import warnings\n",
        "warnings.filterwarnings(\"ignore\")\n",
        "\n",
        "py.init_notebook_mode(connected=True) # this code, allow us to work with offline plotly version\n",
        "import plotly.graph_objs as go # it's like \"plt\" of matplot\n",
        "import plotly.tools as tls # It's useful to we get some tools of plotly\n",
        "from collections import Counter # To do counter of some features\n",
        "\n",
        "def plot_bar_x(title,xlabel,ylabel,label,data):\n",
        "    index = np.arange(len(label))\n",
        "    plt.bar(index, data)\n",
        "    plt.xlabel(xlabel, fontsize=20)\n",
        "    plt.ylabel(ylabel, fontsize=20)\n",
        "    plt.xticks(index, label, fontsize=15, rotation=90)\n",
        "    plt.title(title)\n",
        "    plt.show()"
      ],
      "execution_count": 1,
      "outputs": [
        {
          "output_type": "stream",
          "text": [
            "/usr/local/lib/python3.6/dist-packages/sklearn/externals/six.py:31: DeprecationWarning:\n",
            "\n",
            "The module is deprecated in version 0.21 and will be removed in version 0.23 since we've dropped support for Python 2.7. Please rely on the official version of six (https://pypi.org/project/six/).\n",
            "\n",
            "Using TensorFlow backend.\n"
          ],
          "name": "stderr"
        },
        {
          "output_type": "display_data",
          "data": {
            "text/html": [
              "        <script type=\"text/javascript\">\n",
              "        window.PlotlyConfig = {MathJaxConfig: 'local'};\n",
              "        if (window.MathJax) {MathJax.Hub.Config({SVG: {font: \"STIX-Web\"}});}\n",
              "        if (typeof require !== 'undefined') {\n",
              "        require.undef(\"plotly\");\n",
              "        requirejs.config({\n",
              "            paths: {\n",
              "                'plotly': ['https://cdn.plot.ly/plotly-latest.min']\n",
              "            }\n",
              "        });\n",
              "        require(['plotly'], function(Plotly) {\n",
              "            window._Plotly = Plotly;\n",
              "        });\n",
              "        }\n",
              "        </script>\n",
              "        "
            ]
          },
          "metadata": {
            "tags": []
          }
        }
      ]
    },
    {
      "cell_type": "code",
      "metadata": {
        "id": "0lROTjytvsuq",
        "colab_type": "code",
        "outputId": "6b9b79df-b4d9-4248-f505-76e56d4c22a9",
        "colab": {
          "base_uri": "https://localhost:8080/",
          "height": 35
        }
      },
      "source": [
        "#importing dataset\n",
        "from google.colab import drive\n",
        "drive.mount('/content/gdrive')"
      ],
      "execution_count": 2,
      "outputs": [
        {
          "output_type": "stream",
          "text": [
            "Mounted at /content/gdrive\n"
          ],
          "name": "stdout"
        }
      ]
    },
    {
      "cell_type": "code",
      "metadata": {
        "id": "KaaWg_9b1Lp4",
        "colab_type": "code",
        "colab": {}
      },
      "source": [
        "dataset = pd.read_csv('/content/gdrive/My Drive/dataset_CreditPrediction.csv')"
      ],
      "execution_count": 0,
      "outputs": []
    },
    {
      "cell_type": "code",
      "metadata": {
        "id": "lhHm2A1Vvsut",
        "colab_type": "code",
        "outputId": "35b52f79-1a16-451e-bdf4-bb00267a7656",
        "colab": {
          "base_uri": "https://localhost:8080/",
          "height": 218
        }
      },
      "source": [
        "#Viewing dataset columns\n",
        "dataset.head()"
      ],
      "execution_count": 4,
      "outputs": [
        {
          "output_type": "execute_result",
          "data": {
            "text/html": [
              "<div>\n",
              "<style scoped>\n",
              "    .dataframe tbody tr th:only-of-type {\n",
              "        vertical-align: middle;\n",
              "    }\n",
              "\n",
              "    .dataframe tbody tr th {\n",
              "        vertical-align: top;\n",
              "    }\n",
              "\n",
              "    .dataframe thead th {\n",
              "        text-align: right;\n",
              "    }\n",
              "</style>\n",
              "<table border=\"1\" class=\"dataframe\">\n",
              "  <thead>\n",
              "    <tr style=\"text-align: right;\">\n",
              "      <th></th>\n",
              "      <th>credit</th>\n",
              "      <th>summe_einnahmen</th>\n",
              "      <th>summe_ausgaben</th>\n",
              "      <th>frei_verfuegbares_einkommen</th>\n",
              "      <th>verhaeltnis_einkommen_zu_rate</th>\n",
              "      <th>laufzeit</th>\n",
              "      <th>kreditbetrag</th>\n",
              "      <th>score_wert</th>\n",
              "      <th>schufa_score</th>\n",
              "      <th>anzahl_kinder</th>\n",
              "      <th>anzahl_personen</th>\n",
              "      <th>anzahl_kfz</th>\n",
              "      <th>beschaeftigungs_art</th>\n",
              "      <th>anrede</th>\n",
              "      <th>familienstand</th>\n",
              "      <th>wohnsituation</th>\n",
              "      <th>einkommen_unselbstaendig</th>\n",
              "      <th>rente</th>\n",
              "      <th>ein_unterhalt</th>\n",
              "      <th>kindergeld</th>\n",
              "      <th>ein_miete</th>\n",
              "      <th>sonstiges</th>\n",
              "      <th>aus_miete</th>\n",
              "      <th>wohnnebenkosten</th>\n",
              "      <th>aus_unterhalt</th>\n",
              "      <th>kranken_pflege_versicherung</th>\n",
              "      <th>lebensversicherung</th>\n",
              "      <th>baufinanzierung</th>\n",
              "      <th>bausparen</th>\n",
              "      <th>beschaeftigt_seit</th>\n",
              "      <th>alter</th>\n",
              "      <th>wohnhaft</th>\n",
              "    </tr>\n",
              "  </thead>\n",
              "  <tbody>\n",
              "    <tr>\n",
              "      <th>0</th>\n",
              "      <td>ABGELEHNT</td>\n",
              "      <td>1069.0</td>\n",
              "      <td>1623.263889</td>\n",
              "      <td>-554.0</td>\n",
              "      <td>0.65</td>\n",
              "      <td>60</td>\n",
              "      <td>4990.0</td>\n",
              "      <td>268</td>\n",
              "      <td>9657</td>\n",
              "      <td>1</td>\n",
              "      <td>3</td>\n",
              "      <td>0</td>\n",
              "      <td>ANGESTELLTER</td>\n",
              "      <td>HERR</td>\n",
              "      <td>VERHEIRATET</td>\n",
              "      <td>MIETE</td>\n",
              "      <td>1068.0</td>\n",
              "      <td>0.0</td>\n",
              "      <td>0.0</td>\n",
              "      <td>1.0</td>\n",
              "      <td>0.0</td>\n",
              "      <td>NaN</td>\n",
              "      <td>570.0</td>\n",
              "      <td>NaN</td>\n",
              "      <td>0.0</td>\n",
              "      <td>NaN</td>\n",
              "      <td>0.0</td>\n",
              "      <td>0.0</td>\n",
              "      <td>0.0</td>\n",
              "      <td>2006-07-01 00:00:00</td>\n",
              "      <td>49.0</td>\n",
              "      <td>6.0</td>\n",
              "    </tr>\n",
              "    <tr>\n",
              "      <th>1</th>\n",
              "      <td>ABGELEHNT</td>\n",
              "      <td>2988.0</td>\n",
              "      <td>3192.191043</td>\n",
              "      <td>-204.0</td>\n",
              "      <td>0.70</td>\n",
              "      <td>24</td>\n",
              "      <td>5000.0</td>\n",
              "      <td>175</td>\n",
              "      <td>9712</td>\n",
              "      <td>2</td>\n",
              "      <td>3</td>\n",
              "      <td>1</td>\n",
              "      <td>BEAMTER</td>\n",
              "      <td>HERR</td>\n",
              "      <td>LEDIG</td>\n",
              "      <td>MIETE</td>\n",
              "      <td>2600.0</td>\n",
              "      <td>NaN</td>\n",
              "      <td>NaN</td>\n",
              "      <td>388.0</td>\n",
              "      <td>NaN</td>\n",
              "      <td>NaN</td>\n",
              "      <td>720.0</td>\n",
              "      <td>NaN</td>\n",
              "      <td>NaN</td>\n",
              "      <td>280.0</td>\n",
              "      <td>NaN</td>\n",
              "      <td>NaN</td>\n",
              "      <td>NaN</td>\n",
              "      <td>2010-10-01 00:00:00</td>\n",
              "      <td>41.0</td>\n",
              "      <td>7.0</td>\n",
              "    </tr>\n",
              "    <tr>\n",
              "      <th>2</th>\n",
              "      <td>ABGELEHNT</td>\n",
              "      <td>2088.0</td>\n",
              "      <td>1900.000000</td>\n",
              "      <td>188.0</td>\n",
              "      <td>0.60</td>\n",
              "      <td>72</td>\n",
              "      <td>7000.0</td>\n",
              "      <td>26</td>\n",
              "      <td>9830</td>\n",
              "      <td>2</td>\n",
              "      <td>4</td>\n",
              "      <td>0</td>\n",
              "      <td>ANGESTELLTER</td>\n",
              "      <td>FRAU</td>\n",
              "      <td>VERHEIRATET</td>\n",
              "      <td>MIETE</td>\n",
              "      <td>1700.0</td>\n",
              "      <td>0.0</td>\n",
              "      <td>0.0</td>\n",
              "      <td>2.0</td>\n",
              "      <td>0.0</td>\n",
              "      <td>NaN</td>\n",
              "      <td>650.0</td>\n",
              "      <td>NaN</td>\n",
              "      <td>0.0</td>\n",
              "      <td>NaN</td>\n",
              "      <td>0.0</td>\n",
              "      <td>0.0</td>\n",
              "      <td>0.0</td>\n",
              "      <td>2005-01-01 00:00:00</td>\n",
              "      <td>33.0</td>\n",
              "      <td>11.0</td>\n",
              "    </tr>\n",
              "    <tr>\n",
              "      <th>3</th>\n",
              "      <td>ABGELEHNT</td>\n",
              "      <td>2055.0</td>\n",
              "      <td>1873.750000</td>\n",
              "      <td>181.0</td>\n",
              "      <td>0.60</td>\n",
              "      <td>72</td>\n",
              "      <td>7000.0</td>\n",
              "      <td>254</td>\n",
              "      <td>9946</td>\n",
              "      <td>0</td>\n",
              "      <td>1</td>\n",
              "      <td>1</td>\n",
              "      <td>ANGESTELLTER</td>\n",
              "      <td>HERR</td>\n",
              "      <td>GESCHIEDEN</td>\n",
              "      <td>MIETE</td>\n",
              "      <td>2055.0</td>\n",
              "      <td>0.0</td>\n",
              "      <td>0.0</td>\n",
              "      <td>0.0</td>\n",
              "      <td>0.0</td>\n",
              "      <td>NaN</td>\n",
              "      <td>478.0</td>\n",
              "      <td>NaN</td>\n",
              "      <td>0.0</td>\n",
              "      <td>NaN</td>\n",
              "      <td>197.0</td>\n",
              "      <td>0.0</td>\n",
              "      <td>0.0</td>\n",
              "      <td>2006-02-01 00:00:00</td>\n",
              "      <td>50.0</td>\n",
              "      <td>6.0</td>\n",
              "    </tr>\n",
              "    <tr>\n",
              "      <th>4</th>\n",
              "      <td>ABGELEHNT</td>\n",
              "      <td>1688.0</td>\n",
              "      <td>1337.592723</td>\n",
              "      <td>350.0</td>\n",
              "      <td>0.60</td>\n",
              "      <td>84</td>\n",
              "      <td>10000.0</td>\n",
              "      <td>286</td>\n",
              "      <td>9673</td>\n",
              "      <td>2</td>\n",
              "      <td>4</td>\n",
              "      <td>0</td>\n",
              "      <td>ANGESTELLTER</td>\n",
              "      <td>HERR</td>\n",
              "      <td>VERHEIRATET</td>\n",
              "      <td>EIGENTUM</td>\n",
              "      <td>1300.0</td>\n",
              "      <td>0.0</td>\n",
              "      <td>0.0</td>\n",
              "      <td>384.0</td>\n",
              "      <td>0.0</td>\n",
              "      <td>NaN</td>\n",
              "      <td>NaN</td>\n",
              "      <td>0.0</td>\n",
              "      <td>0.0</td>\n",
              "      <td>NaN</td>\n",
              "      <td>0.0</td>\n",
              "      <td>300.0</td>\n",
              "      <td>0.0</td>\n",
              "      <td>2002-01-01 00:00:00</td>\n",
              "      <td>38.0</td>\n",
              "      <td>11.0</td>\n",
              "    </tr>\n",
              "  </tbody>\n",
              "</table>\n",
              "</div>"
            ],
            "text/plain": [
              "      credit  summe_einnahmen  ...  alter  wohnhaft\n",
              "0  ABGELEHNT           1069.0  ...   49.0       6.0\n",
              "1  ABGELEHNT           2988.0  ...   41.0       7.0\n",
              "2  ABGELEHNT           2088.0  ...   33.0      11.0\n",
              "3  ABGELEHNT           2055.0  ...   50.0       6.0\n",
              "4  ABGELEHNT           1688.0  ...   38.0      11.0\n",
              "\n",
              "[5 rows x 32 columns]"
            ]
          },
          "metadata": {
            "tags": []
          },
          "execution_count": 4
        }
      ]
    },
    {
      "cell_type": "code",
      "metadata": {
        "id": "-i19PDNUvsux",
        "colab_type": "code",
        "outputId": "a1643ba9-e83e-46c4-ab67-12a4381bf5af",
        "colab": {
          "base_uri": "https://localhost:8080/",
          "height": 542
        }
      },
      "source": [
        "#Visualizing the data -- Bar Plot of Classification groups\n",
        "trace0 = go.Bar(\n",
        "            x = dataset[dataset[\"credit\"]== 'GENEHMIGT'][\"credit\"].value_counts().index.values,\n",
        "            y = dataset[dataset[\"credit\"]== 'GENEHMIGT'][\"credit\"].value_counts().values,\n",
        "            name='Good credit')\n",
        "\n",
        "trace1 = go.Bar(\n",
        "            x = dataset[dataset[\"credit\"]== 'ABGELEHNT'][\"credit\"].value_counts().index.values,\n",
        "            y = dataset[dataset[\"credit\"]== 'ABGELEHNT'][\"credit\"].value_counts().values,\n",
        "            name='Bad credit')\n",
        "\n",
        "Risk_Variable_Distribution_Data = [trace0, trace1]\n",
        "\n",
        "layout = go.Layout(\n",
        "    \n",
        ")\n",
        "\n",
        "Risk_Variable_Distribution_Layout = go.Layout(\n",
        "    yaxis=dict(title='Count'),\n",
        "    xaxis=dict(title='Risk Variable'),\n",
        "    title='Target variable distribution'\n",
        ")\n",
        "\n",
        "fig = go.Figure(data=Risk_Variable_Distribution_Data, layout=Risk_Variable_Distribution_Layout)\n",
        "\n",
        "py.iplot(fig, filename='TargetVariableDistribution-bar')"
      ],
      "execution_count": 5,
      "outputs": [
        {
          "output_type": "display_data",
          "data": {
            "text/html": [
              "<div>\n",
              "        \n",
              "        \n",
              "            <div id=\"8531acb8-5164-458b-a551-080d112aeaac\" class=\"plotly-graph-div\" style=\"height:525px; width:100%;\"></div>\n",
              "            <script type=\"text/javascript\">\n",
              "                require([\"plotly\"], function(Plotly) {\n",
              "                    window.PLOTLYENV=window.PLOTLYENV || {};\n",
              "                    \n",
              "                if (document.getElementById(\"8531acb8-5164-458b-a551-080d112aeaac\")) {\n",
              "                    Plotly.newPlot(\n",
              "                        '8531acb8-5164-458b-a551-080d112aeaac',\n",
              "                        [{\"name\": \"Good credit\", \"type\": \"bar\", \"x\": [\"GENEHMIGT\"], \"y\": [9470]}, {\"name\": \"Bad credit\", \"type\": \"bar\", \"x\": [\"ABGELEHNT\"], \"y\": [7495]}],\n",
              "                        {\"template\": {\"data\": {\"bar\": [{\"error_x\": {\"color\": \"#2a3f5f\"}, \"error_y\": {\"color\": \"#2a3f5f\"}, \"marker\": {\"line\": {\"color\": \"#E5ECF6\", \"width\": 0.5}}, \"type\": \"bar\"}], \"barpolar\": [{\"marker\": {\"line\": {\"color\": \"#E5ECF6\", \"width\": 0.5}}, \"type\": \"barpolar\"}], \"carpet\": [{\"aaxis\": {\"endlinecolor\": \"#2a3f5f\", \"gridcolor\": \"white\", \"linecolor\": \"white\", \"minorgridcolor\": \"white\", \"startlinecolor\": \"#2a3f5f\"}, \"baxis\": {\"endlinecolor\": \"#2a3f5f\", \"gridcolor\": \"white\", \"linecolor\": \"white\", \"minorgridcolor\": \"white\", \"startlinecolor\": \"#2a3f5f\"}, \"type\": \"carpet\"}], \"choropleth\": [{\"colorbar\": {\"outlinewidth\": 0, \"ticks\": \"\"}, \"type\": \"choropleth\"}], \"contour\": [{\"colorbar\": {\"outlinewidth\": 0, \"ticks\": \"\"}, \"colorscale\": [[0.0, \"#0d0887\"], [0.1111111111111111, \"#46039f\"], [0.2222222222222222, \"#7201a8\"], [0.3333333333333333, \"#9c179e\"], [0.4444444444444444, \"#bd3786\"], [0.5555555555555556, \"#d8576b\"], [0.6666666666666666, \"#ed7953\"], [0.7777777777777778, \"#fb9f3a\"], [0.8888888888888888, \"#fdca26\"], [1.0, \"#f0f921\"]], \"type\": \"contour\"}], \"contourcarpet\": [{\"colorbar\": {\"outlinewidth\": 0, \"ticks\": \"\"}, \"type\": \"contourcarpet\"}], \"heatmap\": [{\"colorbar\": {\"outlinewidth\": 0, \"ticks\": \"\"}, \"colorscale\": [[0.0, \"#0d0887\"], [0.1111111111111111, \"#46039f\"], [0.2222222222222222, \"#7201a8\"], [0.3333333333333333, \"#9c179e\"], [0.4444444444444444, \"#bd3786\"], [0.5555555555555556, \"#d8576b\"], [0.6666666666666666, \"#ed7953\"], [0.7777777777777778, \"#fb9f3a\"], [0.8888888888888888, \"#fdca26\"], [1.0, \"#f0f921\"]], \"type\": \"heatmap\"}], \"heatmapgl\": [{\"colorbar\": {\"outlinewidth\": 0, \"ticks\": \"\"}, \"colorscale\": [[0.0, \"#0d0887\"], [0.1111111111111111, \"#46039f\"], [0.2222222222222222, \"#7201a8\"], [0.3333333333333333, \"#9c179e\"], [0.4444444444444444, \"#bd3786\"], [0.5555555555555556, \"#d8576b\"], [0.6666666666666666, \"#ed7953\"], [0.7777777777777778, \"#fb9f3a\"], [0.8888888888888888, \"#fdca26\"], [1.0, \"#f0f921\"]], \"type\": \"heatmapgl\"}], \"histogram\": [{\"marker\": {\"colorbar\": {\"outlinewidth\": 0, \"ticks\": \"\"}}, \"type\": \"histogram\"}], \"histogram2d\": [{\"colorbar\": {\"outlinewidth\": 0, \"ticks\": \"\"}, \"colorscale\": [[0.0, \"#0d0887\"], [0.1111111111111111, \"#46039f\"], [0.2222222222222222, \"#7201a8\"], [0.3333333333333333, \"#9c179e\"], [0.4444444444444444, \"#bd3786\"], [0.5555555555555556, \"#d8576b\"], [0.6666666666666666, \"#ed7953\"], [0.7777777777777778, \"#fb9f3a\"], [0.8888888888888888, \"#fdca26\"], [1.0, \"#f0f921\"]], \"type\": \"histogram2d\"}], \"histogram2dcontour\": [{\"colorbar\": {\"outlinewidth\": 0, \"ticks\": \"\"}, \"colorscale\": [[0.0, \"#0d0887\"], [0.1111111111111111, \"#46039f\"], [0.2222222222222222, \"#7201a8\"], [0.3333333333333333, \"#9c179e\"], [0.4444444444444444, \"#bd3786\"], [0.5555555555555556, \"#d8576b\"], [0.6666666666666666, \"#ed7953\"], [0.7777777777777778, \"#fb9f3a\"], [0.8888888888888888, \"#fdca26\"], [1.0, \"#f0f921\"]], \"type\": \"histogram2dcontour\"}], \"mesh3d\": [{\"colorbar\": {\"outlinewidth\": 0, \"ticks\": \"\"}, \"type\": \"mesh3d\"}], \"parcoords\": [{\"line\": {\"colorbar\": {\"outlinewidth\": 0, \"ticks\": \"\"}}, \"type\": \"parcoords\"}], \"scatter\": [{\"marker\": {\"colorbar\": {\"outlinewidth\": 0, \"ticks\": \"\"}}, \"type\": \"scatter\"}], \"scatter3d\": [{\"line\": {\"colorbar\": {\"outlinewidth\": 0, \"ticks\": \"\"}}, \"marker\": {\"colorbar\": {\"outlinewidth\": 0, \"ticks\": \"\"}}, \"type\": \"scatter3d\"}], \"scattercarpet\": [{\"marker\": {\"colorbar\": {\"outlinewidth\": 0, \"ticks\": \"\"}}, \"type\": \"scattercarpet\"}], \"scattergeo\": [{\"marker\": {\"colorbar\": {\"outlinewidth\": 0, \"ticks\": \"\"}}, \"type\": \"scattergeo\"}], \"scattergl\": [{\"marker\": {\"colorbar\": {\"outlinewidth\": 0, \"ticks\": \"\"}}, \"type\": \"scattergl\"}], \"scattermapbox\": [{\"marker\": {\"colorbar\": {\"outlinewidth\": 0, \"ticks\": \"\"}}, \"type\": \"scattermapbox\"}], \"scatterpolar\": [{\"marker\": {\"colorbar\": {\"outlinewidth\": 0, \"ticks\": \"\"}}, \"type\": \"scatterpolar\"}], \"scatterpolargl\": [{\"marker\": {\"colorbar\": {\"outlinewidth\": 0, \"ticks\": \"\"}}, \"type\": \"scatterpolargl\"}], \"scatterternary\": [{\"marker\": {\"colorbar\": {\"outlinewidth\": 0, \"ticks\": \"\"}}, \"type\": \"scatterternary\"}], \"surface\": [{\"colorbar\": {\"outlinewidth\": 0, \"ticks\": \"\"}, \"colorscale\": [[0.0, \"#0d0887\"], [0.1111111111111111, \"#46039f\"], [0.2222222222222222, \"#7201a8\"], [0.3333333333333333, \"#9c179e\"], [0.4444444444444444, \"#bd3786\"], [0.5555555555555556, \"#d8576b\"], [0.6666666666666666, \"#ed7953\"], [0.7777777777777778, \"#fb9f3a\"], [0.8888888888888888, \"#fdca26\"], [1.0, \"#f0f921\"]], \"type\": \"surface\"}], \"table\": [{\"cells\": {\"fill\": {\"color\": \"#EBF0F8\"}, \"line\": {\"color\": \"white\"}}, \"header\": {\"fill\": {\"color\": \"#C8D4E3\"}, \"line\": {\"color\": \"white\"}}, \"type\": \"table\"}]}, \"layout\": {\"annotationdefaults\": {\"arrowcolor\": \"#2a3f5f\", \"arrowhead\": 0, \"arrowwidth\": 1}, \"colorscale\": {\"diverging\": [[0, \"#8e0152\"], [0.1, \"#c51b7d\"], [0.2, \"#de77ae\"], [0.3, \"#f1b6da\"], [0.4, \"#fde0ef\"], [0.5, \"#f7f7f7\"], [0.6, \"#e6f5d0\"], [0.7, \"#b8e186\"], [0.8, \"#7fbc41\"], [0.9, \"#4d9221\"], [1, \"#276419\"]], \"sequential\": [[0.0, \"#0d0887\"], [0.1111111111111111, \"#46039f\"], [0.2222222222222222, \"#7201a8\"], [0.3333333333333333, \"#9c179e\"], [0.4444444444444444, \"#bd3786\"], [0.5555555555555556, \"#d8576b\"], [0.6666666666666666, \"#ed7953\"], [0.7777777777777778, \"#fb9f3a\"], [0.8888888888888888, \"#fdca26\"], [1.0, \"#f0f921\"]], \"sequentialminus\": [[0.0, \"#0d0887\"], [0.1111111111111111, \"#46039f\"], [0.2222222222222222, \"#7201a8\"], [0.3333333333333333, \"#9c179e\"], [0.4444444444444444, \"#bd3786\"], [0.5555555555555556, \"#d8576b\"], [0.6666666666666666, \"#ed7953\"], [0.7777777777777778, \"#fb9f3a\"], [0.8888888888888888, \"#fdca26\"], [1.0, \"#f0f921\"]]}, \"colorway\": [\"#636efa\", \"#EF553B\", \"#00cc96\", \"#ab63fa\", \"#FFA15A\", \"#19d3f3\", \"#FF6692\", \"#B6E880\", \"#FF97FF\", \"#FECB52\"], \"font\": {\"color\": \"#2a3f5f\"}, \"geo\": {\"bgcolor\": \"white\", \"lakecolor\": \"white\", \"landcolor\": \"#E5ECF6\", \"showlakes\": true, \"showland\": true, \"subunitcolor\": \"white\"}, \"hoverlabel\": {\"align\": \"left\"}, \"hovermode\": \"closest\", \"mapbox\": {\"style\": \"light\"}, \"paper_bgcolor\": \"white\", \"plot_bgcolor\": \"#E5ECF6\", \"polar\": {\"angularaxis\": {\"gridcolor\": \"white\", \"linecolor\": \"white\", \"ticks\": \"\"}, \"bgcolor\": \"#E5ECF6\", \"radialaxis\": {\"gridcolor\": \"white\", \"linecolor\": \"white\", \"ticks\": \"\"}}, \"scene\": {\"xaxis\": {\"backgroundcolor\": \"#E5ECF6\", \"gridcolor\": \"white\", \"gridwidth\": 2, \"linecolor\": \"white\", \"showbackground\": true, \"ticks\": \"\", \"zerolinecolor\": \"white\"}, \"yaxis\": {\"backgroundcolor\": \"#E5ECF6\", \"gridcolor\": \"white\", \"gridwidth\": 2, \"linecolor\": \"white\", \"showbackground\": true, \"ticks\": \"\", \"zerolinecolor\": \"white\"}, \"zaxis\": {\"backgroundcolor\": \"#E5ECF6\", \"gridcolor\": \"white\", \"gridwidth\": 2, \"linecolor\": \"white\", \"showbackground\": true, \"ticks\": \"\", \"zerolinecolor\": \"white\"}}, \"shapedefaults\": {\"line\": {\"color\": \"#2a3f5f\"}}, \"ternary\": {\"aaxis\": {\"gridcolor\": \"white\", \"linecolor\": \"white\", \"ticks\": \"\"}, \"baxis\": {\"gridcolor\": \"white\", \"linecolor\": \"white\", \"ticks\": \"\"}, \"bgcolor\": \"#E5ECF6\", \"caxis\": {\"gridcolor\": \"white\", \"linecolor\": \"white\", \"ticks\": \"\"}}, \"title\": {\"x\": 0.05}, \"xaxis\": {\"automargin\": true, \"gridcolor\": \"white\", \"linecolor\": \"white\", \"ticks\": \"\", \"zerolinecolor\": \"white\", \"zerolinewidth\": 2}, \"yaxis\": {\"automargin\": true, \"gridcolor\": \"white\", \"linecolor\": \"white\", \"ticks\": \"\", \"zerolinecolor\": \"white\", \"zerolinewidth\": 2}}}, \"title\": {\"text\": \"Target variable distribution\"}, \"xaxis\": {\"title\": {\"text\": \"Risk Variable\"}}, \"yaxis\": {\"title\": {\"text\": \"Count\"}}},\n",
              "                        {\"responsive\": true}\n",
              "                    ).then(function(){\n",
              "                            \n",
              "var gd = document.getElementById('8531acb8-5164-458b-a551-080d112aeaac');\n",
              "var x = new MutationObserver(function (mutations, observer) {{\n",
              "        var display = window.getComputedStyle(gd).display;\n",
              "        if (!display || display === 'none') {{\n",
              "            console.log([gd, 'removed!']);\n",
              "            Plotly.purge(gd);\n",
              "            observer.disconnect();\n",
              "        }}\n",
              "}});\n",
              "\n",
              "// Listen for the removal of the full notebook cells\n",
              "var notebookContainer = gd.closest('#notebook-container');\n",
              "if (notebookContainer) {{\n",
              "    x.observe(notebookContainer, {childList: true});\n",
              "}}\n",
              "\n",
              "// Listen for the clearing of the current output cell\n",
              "var outputEl = gd.closest('.output');\n",
              "if (outputEl) {{\n",
              "    x.observe(outputEl, {childList: true});\n",
              "}}\n",
              "\n",
              "                        })\n",
              "                };\n",
              "                });\n",
              "            </script>\n",
              "        </div>"
            ],
            "application/vnd.plotly.v1+json": {
              "data": [
                {
                  "y": [
                    9470
                  ],
                  "x": [
                    "GENEHMIGT"
                  ],
                  "type": "bar",
                  "name": "Good credit"
                },
                {
                  "y": [
                    7495
                  ],
                  "x": [
                    "ABGELEHNT"
                  ],
                  "type": "bar",
                  "name": "Bad credit"
                }
              ],
              "config": {
                "plotlyServerURL": "https://plot.ly",
                "linkText": "Export to plot.ly",
                "showLink": false
              },
              "layout": {
                "yaxis": {
                  "title": {
                    "text": "Count"
                  }
                },
                "xaxis": {
                  "title": {
                    "text": "Risk Variable"
                  }
                },
                "template": {
                  "layout": {
                    "shapedefaults": {
                      "line": {
                        "color": "#2a3f5f"
                      }
                    },
                    "polar": {
                      "radialaxis": {
                        "ticks": "",
                        "gridcolor": "white",
                        "linecolor": "white"
                      },
                      "bgcolor": "#E5ECF6",
                      "angularaxis": {
                        "ticks": "",
                        "gridcolor": "white",
                        "linecolor": "white"
                      }
                    },
                    "colorway": [
                      "#636efa",
                      "#EF553B",
                      "#00cc96",
                      "#ab63fa",
                      "#FFA15A",
                      "#19d3f3",
                      "#FF6692",
                      "#B6E880",
                      "#FF97FF",
                      "#FECB52"
                    ],
                    "xaxis": {
                      "automargin": true,
                      "zerolinewidth": 2,
                      "ticks": "",
                      "zerolinecolor": "white",
                      "gridcolor": "white",
                      "linecolor": "white"
                    },
                    "colorscale": {
                      "diverging": [
                        [
                          0,
                          "#8e0152"
                        ],
                        [
                          0.1,
                          "#c51b7d"
                        ],
                        [
                          0.2,
                          "#de77ae"
                        ],
                        [
                          0.3,
                          "#f1b6da"
                        ],
                        [
                          0.4,
                          "#fde0ef"
                        ],
                        [
                          0.5,
                          "#f7f7f7"
                        ],
                        [
                          0.6,
                          "#e6f5d0"
                        ],
                        [
                          0.7,
                          "#b8e186"
                        ],
                        [
                          0.8,
                          "#7fbc41"
                        ],
                        [
                          0.9,
                          "#4d9221"
                        ],
                        [
                          1,
                          "#276419"
                        ]
                      ],
                      "sequential": [
                        [
                          0,
                          "#0d0887"
                        ],
                        [
                          0.1111111111111111,
                          "#46039f"
                        ],
                        [
                          0.2222222222222222,
                          "#7201a8"
                        ],
                        [
                          0.3333333333333333,
                          "#9c179e"
                        ],
                        [
                          0.4444444444444444,
                          "#bd3786"
                        ],
                        [
                          0.5555555555555556,
                          "#d8576b"
                        ],
                        [
                          0.6666666666666666,
                          "#ed7953"
                        ],
                        [
                          0.7777777777777778,
                          "#fb9f3a"
                        ],
                        [
                          0.8888888888888888,
                          "#fdca26"
                        ],
                        [
                          1,
                          "#f0f921"
                        ]
                      ],
                      "sequentialminus": [
                        [
                          0,
                          "#0d0887"
                        ],
                        [
                          0.1111111111111111,
                          "#46039f"
                        ],
                        [
                          0.2222222222222222,
                          "#7201a8"
                        ],
                        [
                          0.3333333333333333,
                          "#9c179e"
                        ],
                        [
                          0.4444444444444444,
                          "#bd3786"
                        ],
                        [
                          0.5555555555555556,
                          "#d8576b"
                        ],
                        [
                          0.6666666666666666,
                          "#ed7953"
                        ],
                        [
                          0.7777777777777778,
                          "#fb9f3a"
                        ],
                        [
                          0.8888888888888888,
                          "#fdca26"
                        ],
                        [
                          1,
                          "#f0f921"
                        ]
                      ]
                    },
                    "paper_bgcolor": "white",
                    "plot_bgcolor": "#E5ECF6",
                    "title": {
                      "x": 0.05
                    },
                    "scene": {
                      "zaxis": {
                        "backgroundcolor": "#E5ECF6",
                        "ticks": "",
                        "gridwidth": 2,
                        "showbackground": true,
                        "zerolinecolor": "white",
                        "gridcolor": "white",
                        "linecolor": "white"
                      },
                      "xaxis": {
                        "backgroundcolor": "#E5ECF6",
                        "ticks": "",
                        "gridwidth": 2,
                        "showbackground": true,
                        "zerolinecolor": "white",
                        "gridcolor": "white",
                        "linecolor": "white"
                      },
                      "yaxis": {
                        "backgroundcolor": "#E5ECF6",
                        "ticks": "",
                        "gridwidth": 2,
                        "showbackground": true,
                        "zerolinecolor": "white",
                        "gridcolor": "white",
                        "linecolor": "white"
                      }
                    },
                    "yaxis": {
                      "automargin": true,
                      "zerolinewidth": 2,
                      "ticks": "",
                      "zerolinecolor": "white",
                      "gridcolor": "white",
                      "linecolor": "white"
                    },
                    "hoverlabel": {
                      "align": "left"
                    },
                    "ternary": {
                      "bgcolor": "#E5ECF6",
                      "baxis": {
                        "ticks": "",
                        "gridcolor": "white",
                        "linecolor": "white"
                      },
                      "caxis": {
                        "ticks": "",
                        "gridcolor": "white",
                        "linecolor": "white"
                      },
                      "aaxis": {
                        "ticks": "",
                        "gridcolor": "white",
                        "linecolor": "white"
                      }
                    },
                    "mapbox": {
                      "style": "light"
                    },
                    "hovermode": "closest",
                    "font": {
                      "color": "#2a3f5f"
                    },
                    "geo": {
                      "showland": true,
                      "landcolor": "#E5ECF6",
                      "showlakes": true,
                      "bgcolor": "white",
                      "subunitcolor": "white",
                      "lakecolor": "white"
                    },
                    "annotationdefaults": {
                      "arrowwidth": 1,
                      "arrowhead": 0,
                      "arrowcolor": "#2a3f5f"
                    }
                  },
                  "data": {
                    "mesh3d": [
                      {
                        "colorbar": {
                          "outlinewidth": 0,
                          "ticks": ""
                        },
                        "type": "mesh3d"
                      }
                    ],
                    "scattercarpet": [
                      {
                        "marker": {
                          "colorbar": {
                            "outlinewidth": 0,
                            "ticks": ""
                          }
                        },
                        "type": "scattercarpet"
                      }
                    ],
                    "scatterternary": [
                      {
                        "marker": {
                          "colorbar": {
                            "outlinewidth": 0,
                            "ticks": ""
                          }
                        },
                        "type": "scatterternary"
                      }
                    ],
                    "surface": [
                      {
                        "colorbar": {
                          "outlinewidth": 0,
                          "ticks": ""
                        },
                        "type": "surface",
                        "colorscale": [
                          [
                            0,
                            "#0d0887"
                          ],
                          [
                            0.1111111111111111,
                            "#46039f"
                          ],
                          [
                            0.2222222222222222,
                            "#7201a8"
                          ],
                          [
                            0.3333333333333333,
                            "#9c179e"
                          ],
                          [
                            0.4444444444444444,
                            "#bd3786"
                          ],
                          [
                            0.5555555555555556,
                            "#d8576b"
                          ],
                          [
                            0.6666666666666666,
                            "#ed7953"
                          ],
                          [
                            0.7777777777777778,
                            "#fb9f3a"
                          ],
                          [
                            0.8888888888888888,
                            "#fdca26"
                          ],
                          [
                            1,
                            "#f0f921"
                          ]
                        ]
                      }
                    ],
                    "table": [
                      {
                        "header": {
                          "line": {
                            "color": "white"
                          },
                          "fill": {
                            "color": "#C8D4E3"
                          }
                        },
                        "cells": {
                          "line": {
                            "color": "white"
                          },
                          "fill": {
                            "color": "#EBF0F8"
                          }
                        },
                        "type": "table"
                      }
                    ],
                    "scatterpolargl": [
                      {
                        "marker": {
                          "colorbar": {
                            "outlinewidth": 0,
                            "ticks": ""
                          }
                        },
                        "type": "scatterpolargl"
                      }
                    ],
                    "contour": [
                      {
                        "colorbar": {
                          "outlinewidth": 0,
                          "ticks": ""
                        },
                        "type": "contour",
                        "colorscale": [
                          [
                            0,
                            "#0d0887"
                          ],
                          [
                            0.1111111111111111,
                            "#46039f"
                          ],
                          [
                            0.2222222222222222,
                            "#7201a8"
                          ],
                          [
                            0.3333333333333333,
                            "#9c179e"
                          ],
                          [
                            0.4444444444444444,
                            "#bd3786"
                          ],
                          [
                            0.5555555555555556,
                            "#d8576b"
                          ],
                          [
                            0.6666666666666666,
                            "#ed7953"
                          ],
                          [
                            0.7777777777777778,
                            "#fb9f3a"
                          ],
                          [
                            0.8888888888888888,
                            "#fdca26"
                          ],
                          [
                            1,
                            "#f0f921"
                          ]
                        ]
                      }
                    ],
                    "carpet": [
                      {
                        "type": "carpet",
                        "baxis": {
                          "minorgridcolor": "white",
                          "gridcolor": "white",
                          "linecolor": "white",
                          "endlinecolor": "#2a3f5f",
                          "startlinecolor": "#2a3f5f"
                        },
                        "aaxis": {
                          "minorgridcolor": "white",
                          "gridcolor": "white",
                          "linecolor": "white",
                          "endlinecolor": "#2a3f5f",
                          "startlinecolor": "#2a3f5f"
                        }
                      }
                    ],
                    "contourcarpet": [
                      {
                        "colorbar": {
                          "outlinewidth": 0,
                          "ticks": ""
                        },
                        "type": "contourcarpet"
                      }
                    ],
                    "heatmap": [
                      {
                        "colorbar": {
                          "outlinewidth": 0,
                          "ticks": ""
                        },
                        "type": "heatmap",
                        "colorscale": [
                          [
                            0,
                            "#0d0887"
                          ],
                          [
                            0.1111111111111111,
                            "#46039f"
                          ],
                          [
                            0.2222222222222222,
                            "#7201a8"
                          ],
                          [
                            0.3333333333333333,
                            "#9c179e"
                          ],
                          [
                            0.4444444444444444,
                            "#bd3786"
                          ],
                          [
                            0.5555555555555556,
                            "#d8576b"
                          ],
                          [
                            0.6666666666666666,
                            "#ed7953"
                          ],
                          [
                            0.7777777777777778,
                            "#fb9f3a"
                          ],
                          [
                            0.8888888888888888,
                            "#fdca26"
                          ],
                          [
                            1,
                            "#f0f921"
                          ]
                        ]
                      }
                    ],
                    "scattermapbox": [
                      {
                        "marker": {
                          "colorbar": {
                            "outlinewidth": 0,
                            "ticks": ""
                          }
                        },
                        "type": "scattermapbox"
                      }
                    ],
                    "scatter3d": [
                      {
                        "marker": {
                          "colorbar": {
                            "outlinewidth": 0,
                            "ticks": ""
                          }
                        },
                        "line": {
                          "colorbar": {
                            "outlinewidth": 0,
                            "ticks": ""
                          }
                        },
                        "type": "scatter3d"
                      }
                    ],
                    "scattergl": [
                      {
                        "marker": {
                          "colorbar": {
                            "outlinewidth": 0,
                            "ticks": ""
                          }
                        },
                        "type": "scattergl"
                      }
                    ],
                    "histogram": [
                      {
                        "marker": {
                          "colorbar": {
                            "outlinewidth": 0,
                            "ticks": ""
                          }
                        },
                        "type": "histogram"
                      }
                    ],
                    "heatmapgl": [
                      {
                        "colorbar": {
                          "outlinewidth": 0,
                          "ticks": ""
                        },
                        "type": "heatmapgl",
                        "colorscale": [
                          [
                            0,
                            "#0d0887"
                          ],
                          [
                            0.1111111111111111,
                            "#46039f"
                          ],
                          [
                            0.2222222222222222,
                            "#7201a8"
                          ],
                          [
                            0.3333333333333333,
                            "#9c179e"
                          ],
                          [
                            0.4444444444444444,
                            "#bd3786"
                          ],
                          [
                            0.5555555555555556,
                            "#d8576b"
                          ],
                          [
                            0.6666666666666666,
                            "#ed7953"
                          ],
                          [
                            0.7777777777777778,
                            "#fb9f3a"
                          ],
                          [
                            0.8888888888888888,
                            "#fdca26"
                          ],
                          [
                            1,
                            "#f0f921"
                          ]
                        ]
                      }
                    ],
                    "scatterpolar": [
                      {
                        "marker": {
                          "colorbar": {
                            "outlinewidth": 0,
                            "ticks": ""
                          }
                        },
                        "type": "scatterpolar"
                      }
                    ],
                    "histogram2d": [
                      {
                        "colorbar": {
                          "outlinewidth": 0,
                          "ticks": ""
                        },
                        "type": "histogram2d",
                        "colorscale": [
                          [
                            0,
                            "#0d0887"
                          ],
                          [
                            0.1111111111111111,
                            "#46039f"
                          ],
                          [
                            0.2222222222222222,
                            "#7201a8"
                          ],
                          [
                            0.3333333333333333,
                            "#9c179e"
                          ],
                          [
                            0.4444444444444444,
                            "#bd3786"
                          ],
                          [
                            0.5555555555555556,
                            "#d8576b"
                          ],
                          [
                            0.6666666666666666,
                            "#ed7953"
                          ],
                          [
                            0.7777777777777778,
                            "#fb9f3a"
                          ],
                          [
                            0.8888888888888888,
                            "#fdca26"
                          ],
                          [
                            1,
                            "#f0f921"
                          ]
                        ]
                      }
                    ],
                    "scattergeo": [
                      {
                        "marker": {
                          "colorbar": {
                            "outlinewidth": 0,
                            "ticks": ""
                          }
                        },
                        "type": "scattergeo"
                      }
                    ],
                    "bar": [
                      {
                        "marker": {
                          "line": {
                            "color": "#E5ECF6",
                            "width": 0.5
                          }
                        },
                        "type": "bar",
                        "error_x": {
                          "color": "#2a3f5f"
                        },
                        "error_y": {
                          "color": "#2a3f5f"
                        }
                      }
                    ],
                    "choropleth": [
                      {
                        "colorbar": {
                          "outlinewidth": 0,
                          "ticks": ""
                        },
                        "type": "choropleth"
                      }
                    ],
                    "parcoords": [
                      {
                        "line": {
                          "colorbar": {
                            "outlinewidth": 0,
                            "ticks": ""
                          }
                        },
                        "type": "parcoords"
                      }
                    ],
                    "barpolar": [
                      {
                        "marker": {
                          "line": {
                            "color": "#E5ECF6",
                            "width": 0.5
                          }
                        },
                        "type": "barpolar"
                      }
                    ],
                    "histogram2dcontour": [
                      {
                        "colorbar": {
                          "outlinewidth": 0,
                          "ticks": ""
                        },
                        "type": "histogram2dcontour",
                        "colorscale": [
                          [
                            0,
                            "#0d0887"
                          ],
                          [
                            0.1111111111111111,
                            "#46039f"
                          ],
                          [
                            0.2222222222222222,
                            "#7201a8"
                          ],
                          [
                            0.3333333333333333,
                            "#9c179e"
                          ],
                          [
                            0.4444444444444444,
                            "#bd3786"
                          ],
                          [
                            0.5555555555555556,
                            "#d8576b"
                          ],
                          [
                            0.6666666666666666,
                            "#ed7953"
                          ],
                          [
                            0.7777777777777778,
                            "#fb9f3a"
                          ],
                          [
                            0.8888888888888888,
                            "#fdca26"
                          ],
                          [
                            1,
                            "#f0f921"
                          ]
                        ]
                      }
                    ],
                    "scatter": [
                      {
                        "marker": {
                          "colorbar": {
                            "outlinewidth": 0,
                            "ticks": ""
                          }
                        },
                        "type": "scatter"
                      }
                    ]
                  }
                },
                "title": {
                  "text": "Target variable distribution"
                }
              }
            }
          },
          "metadata": {
            "tags": []
          }
        }
      ]
    },
    {
      "cell_type": "code",
      "metadata": {
        "id": "J8mPnRIIvsu1",
        "colab_type": "code",
        "outputId": "93c565b0-0d8b-4bd1-c347-9cd65880f21a",
        "colab": {
          "base_uri": "https://localhost:8080/",
          "height": 542
        }
      },
      "source": [
        "trace0 = go.Bar(\n",
        "    x = dataset[dataset[\"credit\"]== 'GENEHMIGT'][\"beschaeftigungs_art\"].value_counts().index.values,\n",
        "    y = dataset[dataset[\"credit\"]== 'GENEHMIGT'][\"beschaeftigungs_art\"].value_counts().values,\n",
        "    name='Good credit Distribuition'\n",
        ")\n",
        "\n",
        "trace1 = go.Bar(\n",
        "    x = dataset[dataset[\"credit\"]== 'ABGELEHNT'][\"beschaeftigungs_art\"].value_counts().index.values,\n",
        "    y = dataset[dataset[\"credit\"]== 'ABGELEHNT'][\"beschaeftigungs_art\"].value_counts().values,\n",
        "    name=\"Bad Credit Distribuition\"\n",
        ")\n",
        "\n",
        "data = [trace0, trace1]\n",
        "\n",
        "layout = go.Layout(\n",
        "    title='Job Distribuition'\n",
        ")\n",
        "\n",
        "fig = go.Figure(data=data, layout=layout)\n",
        "\n",
        "py.iplot(fig, filename='JobDistribution-bar')"
      ],
      "execution_count": 6,
      "outputs": [
        {
          "output_type": "display_data",
          "data": {
            "text/html": [
              "<div>\n",
              "        \n",
              "        \n",
              "            <div id=\"1e24655a-26a1-4cda-9c18-f9303a6dfd9d\" class=\"plotly-graph-div\" style=\"height:525px; width:100%;\"></div>\n",
              "            <script type=\"text/javascript\">\n",
              "                require([\"plotly\"], function(Plotly) {\n",
              "                    window.PLOTLYENV=window.PLOTLYENV || {};\n",
              "                    \n",
              "                if (document.getElementById(\"1e24655a-26a1-4cda-9c18-f9303a6dfd9d\")) {\n",
              "                    Plotly.newPlot(\n",
              "                        '1e24655a-26a1-4cda-9c18-f9303a6dfd9d',\n",
              "                        [{\"name\": \"Good credit Distribuition\", \"type\": \"bar\", \"x\": [\"ANGESTELLTER\", \"ARBEITER\", \"BEAMTER\", \"FREIBERUFLER\", \"SELBSTAENDIG\", \"RENTNER\", \"PENSIONAER\"], \"y\": [7361, 1409, 492, 89, 81, 31, 7]}, {\"name\": \"Bad Credit Distribuition\", \"type\": \"bar\", \"x\": [\"ANGESTELLTER\", \"ARBEITER\", \"SELBSTAENDIG\", \"BEAMTER\", \"FREIBERUFLER\", \"RENTNER\", \"PENSIONAER\"], \"y\": [5369, 1322, 415, 206, 152, 28, 3]}],\n",
              "                        {\"template\": {\"data\": {\"bar\": [{\"error_x\": {\"color\": \"#2a3f5f\"}, \"error_y\": {\"color\": \"#2a3f5f\"}, \"marker\": {\"line\": {\"color\": \"#E5ECF6\", \"width\": 0.5}}, \"type\": \"bar\"}], \"barpolar\": [{\"marker\": {\"line\": {\"color\": \"#E5ECF6\", \"width\": 0.5}}, \"type\": \"barpolar\"}], \"carpet\": [{\"aaxis\": {\"endlinecolor\": \"#2a3f5f\", \"gridcolor\": \"white\", \"linecolor\": \"white\", \"minorgridcolor\": \"white\", \"startlinecolor\": \"#2a3f5f\"}, \"baxis\": {\"endlinecolor\": \"#2a3f5f\", \"gridcolor\": \"white\", \"linecolor\": \"white\", \"minorgridcolor\": \"white\", \"startlinecolor\": \"#2a3f5f\"}, \"type\": \"carpet\"}], \"choropleth\": [{\"colorbar\": {\"outlinewidth\": 0, \"ticks\": \"\"}, \"type\": \"choropleth\"}], \"contour\": [{\"colorbar\": {\"outlinewidth\": 0, \"ticks\": \"\"}, \"colorscale\": [[0.0, \"#0d0887\"], [0.1111111111111111, \"#46039f\"], [0.2222222222222222, \"#7201a8\"], [0.3333333333333333, \"#9c179e\"], [0.4444444444444444, \"#bd3786\"], [0.5555555555555556, \"#d8576b\"], [0.6666666666666666, \"#ed7953\"], [0.7777777777777778, \"#fb9f3a\"], [0.8888888888888888, \"#fdca26\"], [1.0, \"#f0f921\"]], \"type\": \"contour\"}], \"contourcarpet\": [{\"colorbar\": {\"outlinewidth\": 0, \"ticks\": \"\"}, \"type\": \"contourcarpet\"}], \"heatmap\": [{\"colorbar\": {\"outlinewidth\": 0, \"ticks\": \"\"}, \"colorscale\": [[0.0, \"#0d0887\"], [0.1111111111111111, \"#46039f\"], [0.2222222222222222, \"#7201a8\"], [0.3333333333333333, \"#9c179e\"], [0.4444444444444444, \"#bd3786\"], [0.5555555555555556, \"#d8576b\"], [0.6666666666666666, \"#ed7953\"], [0.7777777777777778, \"#fb9f3a\"], [0.8888888888888888, \"#fdca26\"], [1.0, \"#f0f921\"]], \"type\": \"heatmap\"}], \"heatmapgl\": [{\"colorbar\": {\"outlinewidth\": 0, \"ticks\": \"\"}, \"colorscale\": [[0.0, \"#0d0887\"], [0.1111111111111111, \"#46039f\"], [0.2222222222222222, \"#7201a8\"], [0.3333333333333333, \"#9c179e\"], [0.4444444444444444, \"#bd3786\"], [0.5555555555555556, \"#d8576b\"], [0.6666666666666666, \"#ed7953\"], [0.7777777777777778, \"#fb9f3a\"], [0.8888888888888888, \"#fdca26\"], [1.0, \"#f0f921\"]], \"type\": \"heatmapgl\"}], \"histogram\": [{\"marker\": {\"colorbar\": {\"outlinewidth\": 0, \"ticks\": \"\"}}, \"type\": \"histogram\"}], \"histogram2d\": [{\"colorbar\": {\"outlinewidth\": 0, \"ticks\": \"\"}, \"colorscale\": [[0.0, \"#0d0887\"], [0.1111111111111111, \"#46039f\"], [0.2222222222222222, \"#7201a8\"], [0.3333333333333333, \"#9c179e\"], [0.4444444444444444, \"#bd3786\"], [0.5555555555555556, \"#d8576b\"], [0.6666666666666666, \"#ed7953\"], [0.7777777777777778, \"#fb9f3a\"], [0.8888888888888888, \"#fdca26\"], [1.0, \"#f0f921\"]], \"type\": \"histogram2d\"}], \"histogram2dcontour\": [{\"colorbar\": {\"outlinewidth\": 0, \"ticks\": \"\"}, \"colorscale\": [[0.0, \"#0d0887\"], [0.1111111111111111, \"#46039f\"], [0.2222222222222222, \"#7201a8\"], [0.3333333333333333, \"#9c179e\"], [0.4444444444444444, \"#bd3786\"], [0.5555555555555556, \"#d8576b\"], [0.6666666666666666, \"#ed7953\"], [0.7777777777777778, \"#fb9f3a\"], [0.8888888888888888, \"#fdca26\"], [1.0, \"#f0f921\"]], \"type\": \"histogram2dcontour\"}], \"mesh3d\": [{\"colorbar\": {\"outlinewidth\": 0, \"ticks\": \"\"}, \"type\": \"mesh3d\"}], \"parcoords\": [{\"line\": {\"colorbar\": {\"outlinewidth\": 0, \"ticks\": \"\"}}, \"type\": \"parcoords\"}], \"scatter\": [{\"marker\": {\"colorbar\": {\"outlinewidth\": 0, \"ticks\": \"\"}}, \"type\": \"scatter\"}], \"scatter3d\": [{\"line\": {\"colorbar\": {\"outlinewidth\": 0, \"ticks\": \"\"}}, \"marker\": {\"colorbar\": {\"outlinewidth\": 0, \"ticks\": \"\"}}, \"type\": \"scatter3d\"}], \"scattercarpet\": [{\"marker\": {\"colorbar\": {\"outlinewidth\": 0, \"ticks\": \"\"}}, \"type\": \"scattercarpet\"}], \"scattergeo\": [{\"marker\": {\"colorbar\": {\"outlinewidth\": 0, \"ticks\": \"\"}}, \"type\": \"scattergeo\"}], \"scattergl\": [{\"marker\": {\"colorbar\": {\"outlinewidth\": 0, \"ticks\": \"\"}}, \"type\": \"scattergl\"}], \"scattermapbox\": [{\"marker\": {\"colorbar\": {\"outlinewidth\": 0, \"ticks\": \"\"}}, \"type\": \"scattermapbox\"}], \"scatterpolar\": [{\"marker\": {\"colorbar\": {\"outlinewidth\": 0, \"ticks\": \"\"}}, \"type\": \"scatterpolar\"}], \"scatterpolargl\": [{\"marker\": {\"colorbar\": {\"outlinewidth\": 0, \"ticks\": \"\"}}, \"type\": \"scatterpolargl\"}], \"scatterternary\": [{\"marker\": {\"colorbar\": {\"outlinewidth\": 0, \"ticks\": \"\"}}, \"type\": \"scatterternary\"}], \"surface\": [{\"colorbar\": {\"outlinewidth\": 0, \"ticks\": \"\"}, \"colorscale\": [[0.0, \"#0d0887\"], [0.1111111111111111, \"#46039f\"], [0.2222222222222222, \"#7201a8\"], [0.3333333333333333, \"#9c179e\"], [0.4444444444444444, \"#bd3786\"], [0.5555555555555556, \"#d8576b\"], [0.6666666666666666, \"#ed7953\"], [0.7777777777777778, \"#fb9f3a\"], [0.8888888888888888, \"#fdca26\"], [1.0, \"#f0f921\"]], \"type\": \"surface\"}], \"table\": [{\"cells\": {\"fill\": {\"color\": \"#EBF0F8\"}, \"line\": {\"color\": \"white\"}}, \"header\": {\"fill\": {\"color\": \"#C8D4E3\"}, \"line\": {\"color\": \"white\"}}, \"type\": \"table\"}]}, \"layout\": {\"annotationdefaults\": {\"arrowcolor\": \"#2a3f5f\", \"arrowhead\": 0, \"arrowwidth\": 1}, \"colorscale\": {\"diverging\": [[0, \"#8e0152\"], [0.1, \"#c51b7d\"], [0.2, \"#de77ae\"], [0.3, \"#f1b6da\"], [0.4, \"#fde0ef\"], [0.5, \"#f7f7f7\"], [0.6, \"#e6f5d0\"], [0.7, \"#b8e186\"], [0.8, \"#7fbc41\"], [0.9, \"#4d9221\"], [1, \"#276419\"]], \"sequential\": [[0.0, \"#0d0887\"], [0.1111111111111111, \"#46039f\"], [0.2222222222222222, \"#7201a8\"], [0.3333333333333333, \"#9c179e\"], [0.4444444444444444, \"#bd3786\"], [0.5555555555555556, \"#d8576b\"], [0.6666666666666666, \"#ed7953\"], [0.7777777777777778, \"#fb9f3a\"], [0.8888888888888888, \"#fdca26\"], [1.0, \"#f0f921\"]], \"sequentialminus\": [[0.0, \"#0d0887\"], [0.1111111111111111, \"#46039f\"], [0.2222222222222222, \"#7201a8\"], [0.3333333333333333, \"#9c179e\"], [0.4444444444444444, \"#bd3786\"], [0.5555555555555556, \"#d8576b\"], [0.6666666666666666, \"#ed7953\"], [0.7777777777777778, \"#fb9f3a\"], [0.8888888888888888, \"#fdca26\"], [1.0, \"#f0f921\"]]}, \"colorway\": [\"#636efa\", \"#EF553B\", \"#00cc96\", \"#ab63fa\", \"#FFA15A\", \"#19d3f3\", \"#FF6692\", \"#B6E880\", \"#FF97FF\", \"#FECB52\"], \"font\": {\"color\": \"#2a3f5f\"}, \"geo\": {\"bgcolor\": \"white\", \"lakecolor\": \"white\", \"landcolor\": \"#E5ECF6\", \"showlakes\": true, \"showland\": true, \"subunitcolor\": \"white\"}, \"hoverlabel\": {\"align\": \"left\"}, \"hovermode\": \"closest\", \"mapbox\": {\"style\": \"light\"}, \"paper_bgcolor\": \"white\", \"plot_bgcolor\": \"#E5ECF6\", \"polar\": {\"angularaxis\": {\"gridcolor\": \"white\", \"linecolor\": \"white\", \"ticks\": \"\"}, \"bgcolor\": \"#E5ECF6\", \"radialaxis\": {\"gridcolor\": \"white\", \"linecolor\": \"white\", \"ticks\": \"\"}}, \"scene\": {\"xaxis\": {\"backgroundcolor\": \"#E5ECF6\", \"gridcolor\": \"white\", \"gridwidth\": 2, \"linecolor\": \"white\", \"showbackground\": true, \"ticks\": \"\", \"zerolinecolor\": \"white\"}, \"yaxis\": {\"backgroundcolor\": \"#E5ECF6\", \"gridcolor\": \"white\", \"gridwidth\": 2, \"linecolor\": \"white\", \"showbackground\": true, \"ticks\": \"\", \"zerolinecolor\": \"white\"}, \"zaxis\": {\"backgroundcolor\": \"#E5ECF6\", \"gridcolor\": \"white\", \"gridwidth\": 2, \"linecolor\": \"white\", \"showbackground\": true, \"ticks\": \"\", \"zerolinecolor\": \"white\"}}, \"shapedefaults\": {\"line\": {\"color\": \"#2a3f5f\"}}, \"ternary\": {\"aaxis\": {\"gridcolor\": \"white\", \"linecolor\": \"white\", \"ticks\": \"\"}, \"baxis\": {\"gridcolor\": \"white\", \"linecolor\": \"white\", \"ticks\": \"\"}, \"bgcolor\": \"#E5ECF6\", \"caxis\": {\"gridcolor\": \"white\", \"linecolor\": \"white\", \"ticks\": \"\"}}, \"title\": {\"x\": 0.05}, \"xaxis\": {\"automargin\": true, \"gridcolor\": \"white\", \"linecolor\": \"white\", \"ticks\": \"\", \"zerolinecolor\": \"white\", \"zerolinewidth\": 2}, \"yaxis\": {\"automargin\": true, \"gridcolor\": \"white\", \"linecolor\": \"white\", \"ticks\": \"\", \"zerolinecolor\": \"white\", \"zerolinewidth\": 2}}}, \"title\": {\"text\": \"Job Distribuition\"}},\n",
              "                        {\"responsive\": true}\n",
              "                    ).then(function(){\n",
              "                            \n",
              "var gd = document.getElementById('1e24655a-26a1-4cda-9c18-f9303a6dfd9d');\n",
              "var x = new MutationObserver(function (mutations, observer) {{\n",
              "        var display = window.getComputedStyle(gd).display;\n",
              "        if (!display || display === 'none') {{\n",
              "            console.log([gd, 'removed!']);\n",
              "            Plotly.purge(gd);\n",
              "            observer.disconnect();\n",
              "        }}\n",
              "}});\n",
              "\n",
              "// Listen for the removal of the full notebook cells\n",
              "var notebookContainer = gd.closest('#notebook-container');\n",
              "if (notebookContainer) {{\n",
              "    x.observe(notebookContainer, {childList: true});\n",
              "}}\n",
              "\n",
              "// Listen for the clearing of the current output cell\n",
              "var outputEl = gd.closest('.output');\n",
              "if (outputEl) {{\n",
              "    x.observe(outputEl, {childList: true});\n",
              "}}\n",
              "\n",
              "                        })\n",
              "                };\n",
              "                });\n",
              "            </script>\n",
              "        </div>"
            ],
            "application/vnd.plotly.v1+json": {
              "data": [
                {
                  "y": [
                    7361,
                    1409,
                    492,
                    89,
                    81,
                    31,
                    7
                  ],
                  "x": [
                    "ANGESTELLTER",
                    "ARBEITER",
                    "BEAMTER",
                    "FREIBERUFLER",
                    "SELBSTAENDIG",
                    "RENTNER",
                    "PENSIONAER"
                  ],
                  "type": "bar",
                  "name": "Good credit Distribuition"
                },
                {
                  "y": [
                    5369,
                    1322,
                    415,
                    206,
                    152,
                    28,
                    3
                  ],
                  "x": [
                    "ANGESTELLTER",
                    "ARBEITER",
                    "SELBSTAENDIG",
                    "BEAMTER",
                    "FREIBERUFLER",
                    "RENTNER",
                    "PENSIONAER"
                  ],
                  "type": "bar",
                  "name": "Bad Credit Distribuition"
                }
              ],
              "config": {
                "plotlyServerURL": "https://plot.ly",
                "linkText": "Export to plot.ly",
                "showLink": false
              },
              "layout": {
                "template": {
                  "layout": {
                    "shapedefaults": {
                      "line": {
                        "color": "#2a3f5f"
                      }
                    },
                    "polar": {
                      "radialaxis": {
                        "ticks": "",
                        "gridcolor": "white",
                        "linecolor": "white"
                      },
                      "bgcolor": "#E5ECF6",
                      "angularaxis": {
                        "ticks": "",
                        "gridcolor": "white",
                        "linecolor": "white"
                      }
                    },
                    "colorway": [
                      "#636efa",
                      "#EF553B",
                      "#00cc96",
                      "#ab63fa",
                      "#FFA15A",
                      "#19d3f3",
                      "#FF6692",
                      "#B6E880",
                      "#FF97FF",
                      "#FECB52"
                    ],
                    "xaxis": {
                      "automargin": true,
                      "zerolinewidth": 2,
                      "ticks": "",
                      "zerolinecolor": "white",
                      "gridcolor": "white",
                      "linecolor": "white"
                    },
                    "colorscale": {
                      "diverging": [
                        [
                          0,
                          "#8e0152"
                        ],
                        [
                          0.1,
                          "#c51b7d"
                        ],
                        [
                          0.2,
                          "#de77ae"
                        ],
                        [
                          0.3,
                          "#f1b6da"
                        ],
                        [
                          0.4,
                          "#fde0ef"
                        ],
                        [
                          0.5,
                          "#f7f7f7"
                        ],
                        [
                          0.6,
                          "#e6f5d0"
                        ],
                        [
                          0.7,
                          "#b8e186"
                        ],
                        [
                          0.8,
                          "#7fbc41"
                        ],
                        [
                          0.9,
                          "#4d9221"
                        ],
                        [
                          1,
                          "#276419"
                        ]
                      ],
                      "sequential": [
                        [
                          0,
                          "#0d0887"
                        ],
                        [
                          0.1111111111111111,
                          "#46039f"
                        ],
                        [
                          0.2222222222222222,
                          "#7201a8"
                        ],
                        [
                          0.3333333333333333,
                          "#9c179e"
                        ],
                        [
                          0.4444444444444444,
                          "#bd3786"
                        ],
                        [
                          0.5555555555555556,
                          "#d8576b"
                        ],
                        [
                          0.6666666666666666,
                          "#ed7953"
                        ],
                        [
                          0.7777777777777778,
                          "#fb9f3a"
                        ],
                        [
                          0.8888888888888888,
                          "#fdca26"
                        ],
                        [
                          1,
                          "#f0f921"
                        ]
                      ],
                      "sequentialminus": [
                        [
                          0,
                          "#0d0887"
                        ],
                        [
                          0.1111111111111111,
                          "#46039f"
                        ],
                        [
                          0.2222222222222222,
                          "#7201a8"
                        ],
                        [
                          0.3333333333333333,
                          "#9c179e"
                        ],
                        [
                          0.4444444444444444,
                          "#bd3786"
                        ],
                        [
                          0.5555555555555556,
                          "#d8576b"
                        ],
                        [
                          0.6666666666666666,
                          "#ed7953"
                        ],
                        [
                          0.7777777777777778,
                          "#fb9f3a"
                        ],
                        [
                          0.8888888888888888,
                          "#fdca26"
                        ],
                        [
                          1,
                          "#f0f921"
                        ]
                      ]
                    },
                    "paper_bgcolor": "white",
                    "plot_bgcolor": "#E5ECF6",
                    "title": {
                      "x": 0.05
                    },
                    "scene": {
                      "zaxis": {
                        "backgroundcolor": "#E5ECF6",
                        "ticks": "",
                        "gridwidth": 2,
                        "showbackground": true,
                        "zerolinecolor": "white",
                        "gridcolor": "white",
                        "linecolor": "white"
                      },
                      "xaxis": {
                        "backgroundcolor": "#E5ECF6",
                        "ticks": "",
                        "gridwidth": 2,
                        "showbackground": true,
                        "zerolinecolor": "white",
                        "gridcolor": "white",
                        "linecolor": "white"
                      },
                      "yaxis": {
                        "backgroundcolor": "#E5ECF6",
                        "ticks": "",
                        "gridwidth": 2,
                        "showbackground": true,
                        "zerolinecolor": "white",
                        "gridcolor": "white",
                        "linecolor": "white"
                      }
                    },
                    "yaxis": {
                      "automargin": true,
                      "zerolinewidth": 2,
                      "ticks": "",
                      "zerolinecolor": "white",
                      "gridcolor": "white",
                      "linecolor": "white"
                    },
                    "hoverlabel": {
                      "align": "left"
                    },
                    "ternary": {
                      "bgcolor": "#E5ECF6",
                      "baxis": {
                        "ticks": "",
                        "gridcolor": "white",
                        "linecolor": "white"
                      },
                      "caxis": {
                        "ticks": "",
                        "gridcolor": "white",
                        "linecolor": "white"
                      },
                      "aaxis": {
                        "ticks": "",
                        "gridcolor": "white",
                        "linecolor": "white"
                      }
                    },
                    "mapbox": {
                      "style": "light"
                    },
                    "hovermode": "closest",
                    "font": {
                      "color": "#2a3f5f"
                    },
                    "geo": {
                      "showland": true,
                      "landcolor": "#E5ECF6",
                      "showlakes": true,
                      "bgcolor": "white",
                      "subunitcolor": "white",
                      "lakecolor": "white"
                    },
                    "annotationdefaults": {
                      "arrowwidth": 1,
                      "arrowhead": 0,
                      "arrowcolor": "#2a3f5f"
                    }
                  },
                  "data": {
                    "mesh3d": [
                      {
                        "colorbar": {
                          "outlinewidth": 0,
                          "ticks": ""
                        },
                        "type": "mesh3d"
                      }
                    ],
                    "scattercarpet": [
                      {
                        "marker": {
                          "colorbar": {
                            "outlinewidth": 0,
                            "ticks": ""
                          }
                        },
                        "type": "scattercarpet"
                      }
                    ],
                    "scatterternary": [
                      {
                        "marker": {
                          "colorbar": {
                            "outlinewidth": 0,
                            "ticks": ""
                          }
                        },
                        "type": "scatterternary"
                      }
                    ],
                    "surface": [
                      {
                        "colorbar": {
                          "outlinewidth": 0,
                          "ticks": ""
                        },
                        "type": "surface",
                        "colorscale": [
                          [
                            0,
                            "#0d0887"
                          ],
                          [
                            0.1111111111111111,
                            "#46039f"
                          ],
                          [
                            0.2222222222222222,
                            "#7201a8"
                          ],
                          [
                            0.3333333333333333,
                            "#9c179e"
                          ],
                          [
                            0.4444444444444444,
                            "#bd3786"
                          ],
                          [
                            0.5555555555555556,
                            "#d8576b"
                          ],
                          [
                            0.6666666666666666,
                            "#ed7953"
                          ],
                          [
                            0.7777777777777778,
                            "#fb9f3a"
                          ],
                          [
                            0.8888888888888888,
                            "#fdca26"
                          ],
                          [
                            1,
                            "#f0f921"
                          ]
                        ]
                      }
                    ],
                    "table": [
                      {
                        "header": {
                          "line": {
                            "color": "white"
                          },
                          "fill": {
                            "color": "#C8D4E3"
                          }
                        },
                        "cells": {
                          "line": {
                            "color": "white"
                          },
                          "fill": {
                            "color": "#EBF0F8"
                          }
                        },
                        "type": "table"
                      }
                    ],
                    "scatterpolargl": [
                      {
                        "marker": {
                          "colorbar": {
                            "outlinewidth": 0,
                            "ticks": ""
                          }
                        },
                        "type": "scatterpolargl"
                      }
                    ],
                    "contour": [
                      {
                        "colorbar": {
                          "outlinewidth": 0,
                          "ticks": ""
                        },
                        "type": "contour",
                        "colorscale": [
                          [
                            0,
                            "#0d0887"
                          ],
                          [
                            0.1111111111111111,
                            "#46039f"
                          ],
                          [
                            0.2222222222222222,
                            "#7201a8"
                          ],
                          [
                            0.3333333333333333,
                            "#9c179e"
                          ],
                          [
                            0.4444444444444444,
                            "#bd3786"
                          ],
                          [
                            0.5555555555555556,
                            "#d8576b"
                          ],
                          [
                            0.6666666666666666,
                            "#ed7953"
                          ],
                          [
                            0.7777777777777778,
                            "#fb9f3a"
                          ],
                          [
                            0.8888888888888888,
                            "#fdca26"
                          ],
                          [
                            1,
                            "#f0f921"
                          ]
                        ]
                      }
                    ],
                    "carpet": [
                      {
                        "type": "carpet",
                        "baxis": {
                          "minorgridcolor": "white",
                          "gridcolor": "white",
                          "linecolor": "white",
                          "endlinecolor": "#2a3f5f",
                          "startlinecolor": "#2a3f5f"
                        },
                        "aaxis": {
                          "minorgridcolor": "white",
                          "gridcolor": "white",
                          "linecolor": "white",
                          "endlinecolor": "#2a3f5f",
                          "startlinecolor": "#2a3f5f"
                        }
                      }
                    ],
                    "contourcarpet": [
                      {
                        "colorbar": {
                          "outlinewidth": 0,
                          "ticks": ""
                        },
                        "type": "contourcarpet"
                      }
                    ],
                    "heatmap": [
                      {
                        "colorbar": {
                          "outlinewidth": 0,
                          "ticks": ""
                        },
                        "type": "heatmap",
                        "colorscale": [
                          [
                            0,
                            "#0d0887"
                          ],
                          [
                            0.1111111111111111,
                            "#46039f"
                          ],
                          [
                            0.2222222222222222,
                            "#7201a8"
                          ],
                          [
                            0.3333333333333333,
                            "#9c179e"
                          ],
                          [
                            0.4444444444444444,
                            "#bd3786"
                          ],
                          [
                            0.5555555555555556,
                            "#d8576b"
                          ],
                          [
                            0.6666666666666666,
                            "#ed7953"
                          ],
                          [
                            0.7777777777777778,
                            "#fb9f3a"
                          ],
                          [
                            0.8888888888888888,
                            "#fdca26"
                          ],
                          [
                            1,
                            "#f0f921"
                          ]
                        ]
                      }
                    ],
                    "scattermapbox": [
                      {
                        "marker": {
                          "colorbar": {
                            "outlinewidth": 0,
                            "ticks": ""
                          }
                        },
                        "type": "scattermapbox"
                      }
                    ],
                    "scatter3d": [
                      {
                        "marker": {
                          "colorbar": {
                            "outlinewidth": 0,
                            "ticks": ""
                          }
                        },
                        "line": {
                          "colorbar": {
                            "outlinewidth": 0,
                            "ticks": ""
                          }
                        },
                        "type": "scatter3d"
                      }
                    ],
                    "scattergl": [
                      {
                        "marker": {
                          "colorbar": {
                            "outlinewidth": 0,
                            "ticks": ""
                          }
                        },
                        "type": "scattergl"
                      }
                    ],
                    "histogram": [
                      {
                        "marker": {
                          "colorbar": {
                            "outlinewidth": 0,
                            "ticks": ""
                          }
                        },
                        "type": "histogram"
                      }
                    ],
                    "heatmapgl": [
                      {
                        "colorbar": {
                          "outlinewidth": 0,
                          "ticks": ""
                        },
                        "type": "heatmapgl",
                        "colorscale": [
                          [
                            0,
                            "#0d0887"
                          ],
                          [
                            0.1111111111111111,
                            "#46039f"
                          ],
                          [
                            0.2222222222222222,
                            "#7201a8"
                          ],
                          [
                            0.3333333333333333,
                            "#9c179e"
                          ],
                          [
                            0.4444444444444444,
                            "#bd3786"
                          ],
                          [
                            0.5555555555555556,
                            "#d8576b"
                          ],
                          [
                            0.6666666666666666,
                            "#ed7953"
                          ],
                          [
                            0.7777777777777778,
                            "#fb9f3a"
                          ],
                          [
                            0.8888888888888888,
                            "#fdca26"
                          ],
                          [
                            1,
                            "#f0f921"
                          ]
                        ]
                      }
                    ],
                    "scatterpolar": [
                      {
                        "marker": {
                          "colorbar": {
                            "outlinewidth": 0,
                            "ticks": ""
                          }
                        },
                        "type": "scatterpolar"
                      }
                    ],
                    "histogram2d": [
                      {
                        "colorbar": {
                          "outlinewidth": 0,
                          "ticks": ""
                        },
                        "type": "histogram2d",
                        "colorscale": [
                          [
                            0,
                            "#0d0887"
                          ],
                          [
                            0.1111111111111111,
                            "#46039f"
                          ],
                          [
                            0.2222222222222222,
                            "#7201a8"
                          ],
                          [
                            0.3333333333333333,
                            "#9c179e"
                          ],
                          [
                            0.4444444444444444,
                            "#bd3786"
                          ],
                          [
                            0.5555555555555556,
                            "#d8576b"
                          ],
                          [
                            0.6666666666666666,
                            "#ed7953"
                          ],
                          [
                            0.7777777777777778,
                            "#fb9f3a"
                          ],
                          [
                            0.8888888888888888,
                            "#fdca26"
                          ],
                          [
                            1,
                            "#f0f921"
                          ]
                        ]
                      }
                    ],
                    "scattergeo": [
                      {
                        "marker": {
                          "colorbar": {
                            "outlinewidth": 0,
                            "ticks": ""
                          }
                        },
                        "type": "scattergeo"
                      }
                    ],
                    "bar": [
                      {
                        "marker": {
                          "line": {
                            "color": "#E5ECF6",
                            "width": 0.5
                          }
                        },
                        "type": "bar",
                        "error_x": {
                          "color": "#2a3f5f"
                        },
                        "error_y": {
                          "color": "#2a3f5f"
                        }
                      }
                    ],
                    "choropleth": [
                      {
                        "colorbar": {
                          "outlinewidth": 0,
                          "ticks": ""
                        },
                        "type": "choropleth"
                      }
                    ],
                    "parcoords": [
                      {
                        "line": {
                          "colorbar": {
                            "outlinewidth": 0,
                            "ticks": ""
                          }
                        },
                        "type": "parcoords"
                      }
                    ],
                    "barpolar": [
                      {
                        "marker": {
                          "line": {
                            "color": "#E5ECF6",
                            "width": 0.5
                          }
                        },
                        "type": "barpolar"
                      }
                    ],
                    "histogram2dcontour": [
                      {
                        "colorbar": {
                          "outlinewidth": 0,
                          "ticks": ""
                        },
                        "type": "histogram2dcontour",
                        "colorscale": [
                          [
                            0,
                            "#0d0887"
                          ],
                          [
                            0.1111111111111111,
                            "#46039f"
                          ],
                          [
                            0.2222222222222222,
                            "#7201a8"
                          ],
                          [
                            0.3333333333333333,
                            "#9c179e"
                          ],
                          [
                            0.4444444444444444,
                            "#bd3786"
                          ],
                          [
                            0.5555555555555556,
                            "#d8576b"
                          ],
                          [
                            0.6666666666666666,
                            "#ed7953"
                          ],
                          [
                            0.7777777777777778,
                            "#fb9f3a"
                          ],
                          [
                            0.8888888888888888,
                            "#fdca26"
                          ],
                          [
                            1,
                            "#f0f921"
                          ]
                        ]
                      }
                    ],
                    "scatter": [
                      {
                        "marker": {
                          "colorbar": {
                            "outlinewidth": 0,
                            "ticks": ""
                          }
                        },
                        "type": "scatter"
                      }
                    ]
                  }
                },
                "title": {
                  "text": "Job Distribuition"
                }
              }
            }
          },
          "metadata": {
            "tags": []
          }
        }
      ]
    },
    {
      "cell_type": "code",
      "metadata": {
        "id": "Po5_LRnTvsu5",
        "colab_type": "code",
        "colab": {}
      },
      "source": [
        "dataset.replace({\"\\\\N\" : None}, inplace = True)"
      ],
      "execution_count": 0,
      "outputs": []
    },
    {
      "cell_type": "code",
      "metadata": {
        "id": "XwqDRVmxvsu8",
        "colab_type": "code",
        "colab": {}
      },
      "source": [
        "#Converting Categorical Data to Numerical\n",
        "lb_make = LabelEncoder()\n",
        "dataset[\"credit\"] = lb_make.fit_transform(dataset[\"credit\"])\n",
        "dataset[\"beschaeftigungs_art\"] = lb_make.fit_transform(dataset[\"beschaeftigungs_art\"]).astype('float64')\n",
        "dataset[\"anrede\"] = lb_make.fit_transform(dataset[\"anrede\"]).astype('float64')\n",
        "dataset[\"familienstand\"] = lb_make.fit_transform(dataset[\"familienstand\"]).astype('float64')\n",
        "\n",
        "\n",
        "for index, row in dataset.head().iterrows():\n",
        "  if (row['wohnsituation'] in ['EINGENTUM','ELTERN']):\n",
        "    row['aus_miete']=0\n",
        "\n",
        "\n",
        "dataset[\"wohnsituation\"] = lb_make.fit_transform(dataset[\"wohnsituation\"]).astype('float64')\n",
        "\n",
        "\n",
        "#Converting data to float types\n",
        "dataset[\"laufzeit\"] = dataset[\"laufzeit\"].astype('float64')\n",
        "dataset[\"score_wert\"] = dataset[\"score_wert\"].astype('float64')\n",
        "dataset[\"schufa_score\"] = dataset[\"schufa_score\"].astype('float64')\n",
        "dataset[\"anzahl_kinder\"] = dataset[\"anzahl_kinder\"].astype('float64')\n",
        "dataset[\"anzahl_personen\"] = dataset[\"anzahl_personen\"].astype('float64')\n",
        "dataset[\"anzahl_kfz\"] = dataset[\"anzahl_kfz\"].astype('float64')\n",
        "\n",
        "#Caculating time employed since\n",
        "\n",
        "from datetime import datetime\n",
        "dataset['beschaeftigt_seit'] = ( pd.to_datetime(dataset['beschaeftigt_seit'], format=\"%Y-%m-%d\"))\n",
        "dataset['beschaeftigt_seit'] = (((2019 - dataset['beschaeftigt_seit'].dt.year)*12) + (10-dataset['beschaeftigt_seit'].dt.month)).astype('float64')\n",
        "\n"
      ],
      "execution_count": 0,
      "outputs": []
    },
    {
      "cell_type": "code",
      "metadata": {
        "id": "GHwRIX2AvsvC",
        "colab_type": "code",
        "outputId": "71b2b0f5-e5ba-4c98-8d16-05df1e6085a1",
        "colab": {
          "base_uri": "https://localhost:8080/",
          "height": 218
        }
      },
      "source": [
        "dataset.head()"
      ],
      "execution_count": 9,
      "outputs": [
        {
          "output_type": "execute_result",
          "data": {
            "text/html": [
              "<div>\n",
              "<style scoped>\n",
              "    .dataframe tbody tr th:only-of-type {\n",
              "        vertical-align: middle;\n",
              "    }\n",
              "\n",
              "    .dataframe tbody tr th {\n",
              "        vertical-align: top;\n",
              "    }\n",
              "\n",
              "    .dataframe thead th {\n",
              "        text-align: right;\n",
              "    }\n",
              "</style>\n",
              "<table border=\"1\" class=\"dataframe\">\n",
              "  <thead>\n",
              "    <tr style=\"text-align: right;\">\n",
              "      <th></th>\n",
              "      <th>credit</th>\n",
              "      <th>summe_einnahmen</th>\n",
              "      <th>summe_ausgaben</th>\n",
              "      <th>frei_verfuegbares_einkommen</th>\n",
              "      <th>verhaeltnis_einkommen_zu_rate</th>\n",
              "      <th>laufzeit</th>\n",
              "      <th>kreditbetrag</th>\n",
              "      <th>score_wert</th>\n",
              "      <th>schufa_score</th>\n",
              "      <th>anzahl_kinder</th>\n",
              "      <th>anzahl_personen</th>\n",
              "      <th>anzahl_kfz</th>\n",
              "      <th>beschaeftigungs_art</th>\n",
              "      <th>anrede</th>\n",
              "      <th>familienstand</th>\n",
              "      <th>wohnsituation</th>\n",
              "      <th>einkommen_unselbstaendig</th>\n",
              "      <th>rente</th>\n",
              "      <th>ein_unterhalt</th>\n",
              "      <th>kindergeld</th>\n",
              "      <th>ein_miete</th>\n",
              "      <th>sonstiges</th>\n",
              "      <th>aus_miete</th>\n",
              "      <th>wohnnebenkosten</th>\n",
              "      <th>aus_unterhalt</th>\n",
              "      <th>kranken_pflege_versicherung</th>\n",
              "      <th>lebensversicherung</th>\n",
              "      <th>baufinanzierung</th>\n",
              "      <th>bausparen</th>\n",
              "      <th>beschaeftigt_seit</th>\n",
              "      <th>alter</th>\n",
              "      <th>wohnhaft</th>\n",
              "    </tr>\n",
              "  </thead>\n",
              "  <tbody>\n",
              "    <tr>\n",
              "      <th>0</th>\n",
              "      <td>0</td>\n",
              "      <td>1069.0</td>\n",
              "      <td>1623.263889</td>\n",
              "      <td>-554.0</td>\n",
              "      <td>0.65</td>\n",
              "      <td>60.0</td>\n",
              "      <td>4990.0</td>\n",
              "      <td>268.0</td>\n",
              "      <td>9657.0</td>\n",
              "      <td>1.0</td>\n",
              "      <td>3.0</td>\n",
              "      <td>0.0</td>\n",
              "      <td>0.0</td>\n",
              "      <td>1.0</td>\n",
              "      <td>5.0</td>\n",
              "      <td>2.0</td>\n",
              "      <td>1068.0</td>\n",
              "      <td>0.0</td>\n",
              "      <td>0.0</td>\n",
              "      <td>1.0</td>\n",
              "      <td>0.0</td>\n",
              "      <td>NaN</td>\n",
              "      <td>570.0</td>\n",
              "      <td>NaN</td>\n",
              "      <td>0.0</td>\n",
              "      <td>NaN</td>\n",
              "      <td>0.0</td>\n",
              "      <td>0.0</td>\n",
              "      <td>0.0</td>\n",
              "      <td>159.0</td>\n",
              "      <td>49.0</td>\n",
              "      <td>6.0</td>\n",
              "    </tr>\n",
              "    <tr>\n",
              "      <th>1</th>\n",
              "      <td>0</td>\n",
              "      <td>2988.0</td>\n",
              "      <td>3192.191043</td>\n",
              "      <td>-204.0</td>\n",
              "      <td>0.70</td>\n",
              "      <td>24.0</td>\n",
              "      <td>5000.0</td>\n",
              "      <td>175.0</td>\n",
              "      <td>9712.0</td>\n",
              "      <td>2.0</td>\n",
              "      <td>3.0</td>\n",
              "      <td>1.0</td>\n",
              "      <td>2.0</td>\n",
              "      <td>1.0</td>\n",
              "      <td>4.0</td>\n",
              "      <td>2.0</td>\n",
              "      <td>2600.0</td>\n",
              "      <td>NaN</td>\n",
              "      <td>NaN</td>\n",
              "      <td>388.0</td>\n",
              "      <td>NaN</td>\n",
              "      <td>NaN</td>\n",
              "      <td>720.0</td>\n",
              "      <td>NaN</td>\n",
              "      <td>NaN</td>\n",
              "      <td>280.0</td>\n",
              "      <td>NaN</td>\n",
              "      <td>NaN</td>\n",
              "      <td>NaN</td>\n",
              "      <td>108.0</td>\n",
              "      <td>41.0</td>\n",
              "      <td>7.0</td>\n",
              "    </tr>\n",
              "    <tr>\n",
              "      <th>2</th>\n",
              "      <td>0</td>\n",
              "      <td>2088.0</td>\n",
              "      <td>1900.000000</td>\n",
              "      <td>188.0</td>\n",
              "      <td>0.60</td>\n",
              "      <td>72.0</td>\n",
              "      <td>7000.0</td>\n",
              "      <td>26.0</td>\n",
              "      <td>9830.0</td>\n",
              "      <td>2.0</td>\n",
              "      <td>4.0</td>\n",
              "      <td>0.0</td>\n",
              "      <td>0.0</td>\n",
              "      <td>0.0</td>\n",
              "      <td>5.0</td>\n",
              "      <td>2.0</td>\n",
              "      <td>1700.0</td>\n",
              "      <td>0.0</td>\n",
              "      <td>0.0</td>\n",
              "      <td>2.0</td>\n",
              "      <td>0.0</td>\n",
              "      <td>NaN</td>\n",
              "      <td>650.0</td>\n",
              "      <td>NaN</td>\n",
              "      <td>0.0</td>\n",
              "      <td>NaN</td>\n",
              "      <td>0.0</td>\n",
              "      <td>0.0</td>\n",
              "      <td>0.0</td>\n",
              "      <td>177.0</td>\n",
              "      <td>33.0</td>\n",
              "      <td>11.0</td>\n",
              "    </tr>\n",
              "    <tr>\n",
              "      <th>3</th>\n",
              "      <td>0</td>\n",
              "      <td>2055.0</td>\n",
              "      <td>1873.750000</td>\n",
              "      <td>181.0</td>\n",
              "      <td>0.60</td>\n",
              "      <td>72.0</td>\n",
              "      <td>7000.0</td>\n",
              "      <td>254.0</td>\n",
              "      <td>9946.0</td>\n",
              "      <td>0.0</td>\n",
              "      <td>1.0</td>\n",
              "      <td>1.0</td>\n",
              "      <td>0.0</td>\n",
              "      <td>1.0</td>\n",
              "      <td>0.0</td>\n",
              "      <td>2.0</td>\n",
              "      <td>2055.0</td>\n",
              "      <td>0.0</td>\n",
              "      <td>0.0</td>\n",
              "      <td>0.0</td>\n",
              "      <td>0.0</td>\n",
              "      <td>NaN</td>\n",
              "      <td>478.0</td>\n",
              "      <td>NaN</td>\n",
              "      <td>0.0</td>\n",
              "      <td>NaN</td>\n",
              "      <td>197.0</td>\n",
              "      <td>0.0</td>\n",
              "      <td>0.0</td>\n",
              "      <td>164.0</td>\n",
              "      <td>50.0</td>\n",
              "      <td>6.0</td>\n",
              "    </tr>\n",
              "    <tr>\n",
              "      <th>4</th>\n",
              "      <td>0</td>\n",
              "      <td>1688.0</td>\n",
              "      <td>1337.592723</td>\n",
              "      <td>350.0</td>\n",
              "      <td>0.60</td>\n",
              "      <td>84.0</td>\n",
              "      <td>10000.0</td>\n",
              "      <td>286.0</td>\n",
              "      <td>9673.0</td>\n",
              "      <td>2.0</td>\n",
              "      <td>4.0</td>\n",
              "      <td>0.0</td>\n",
              "      <td>0.0</td>\n",
              "      <td>1.0</td>\n",
              "      <td>5.0</td>\n",
              "      <td>0.0</td>\n",
              "      <td>1300.0</td>\n",
              "      <td>0.0</td>\n",
              "      <td>0.0</td>\n",
              "      <td>384.0</td>\n",
              "      <td>0.0</td>\n",
              "      <td>NaN</td>\n",
              "      <td>NaN</td>\n",
              "      <td>0.0</td>\n",
              "      <td>0.0</td>\n",
              "      <td>NaN</td>\n",
              "      <td>0.0</td>\n",
              "      <td>300.0</td>\n",
              "      <td>0.0</td>\n",
              "      <td>213.0</td>\n",
              "      <td>38.0</td>\n",
              "      <td>11.0</td>\n",
              "    </tr>\n",
              "  </tbody>\n",
              "</table>\n",
              "</div>"
            ],
            "text/plain": [
              "   credit  summe_einnahmen  summe_ausgaben  ...  beschaeftigt_seit  alter  wohnhaft\n",
              "0       0           1069.0     1623.263889  ...              159.0   49.0       6.0\n",
              "1       0           2988.0     3192.191043  ...              108.0   41.0       7.0\n",
              "2       0           2088.0     1900.000000  ...              177.0   33.0      11.0\n",
              "3       0           2055.0     1873.750000  ...              164.0   50.0       6.0\n",
              "4       0           1688.0     1337.592723  ...              213.0   38.0      11.0\n",
              "\n",
              "[5 rows x 32 columns]"
            ]
          },
          "metadata": {
            "tags": []
          },
          "execution_count": 9
        }
      ]
    },
    {
      "cell_type": "code",
      "metadata": {
        "id": "UL5aG8crvsvG",
        "colab_type": "code",
        "outputId": "cab6c5e2-db00-47d3-9529-ac7010738313",
        "colab": {
          "base_uri": "https://localhost:8080/",
          "height": 690
        }
      },
      "source": [
        "dataset.info()"
      ],
      "execution_count": 10,
      "outputs": [
        {
          "output_type": "stream",
          "text": [
            "<class 'pandas.core.frame.DataFrame'>\n",
            "RangeIndex: 16965 entries, 0 to 16964\n",
            "Data columns (total 32 columns):\n",
            "credit                           16965 non-null int64\n",
            "summe_einnahmen                  16965 non-null float64\n",
            "summe_ausgaben                   16965 non-null float64\n",
            "frei_verfuegbares_einkommen      16965 non-null float64\n",
            "verhaeltnis_einkommen_zu_rate    16965 non-null float64\n",
            "laufzeit                         16965 non-null float64\n",
            "kreditbetrag                     16965 non-null float64\n",
            "score_wert                       16965 non-null float64\n",
            "schufa_score                     16965 non-null float64\n",
            "anzahl_kinder                    16965 non-null float64\n",
            "anzahl_personen                  16965 non-null float64\n",
            "anzahl_kfz                       16965 non-null float64\n",
            "beschaeftigungs_art              16965 non-null float64\n",
            "anrede                           16965 non-null float64\n",
            "familienstand                    16965 non-null float64\n",
            "wohnsituation                    16965 non-null float64\n",
            "einkommen_unselbstaendig         16240 non-null float64\n",
            "rente                            15785 non-null float64\n",
            "ein_unterhalt                    15797 non-null float64\n",
            "kindergeld                       16225 non-null float64\n",
            "ein_miete                        15870 non-null float64\n",
            "sonstiges                        12784 non-null float64\n",
            "aus_miete                        15489 non-null float64\n",
            "wohnnebenkosten                  13941 non-null float64\n",
            "aus_unterhalt                    15926 non-null float64\n",
            "kranken_pflege_versicherung      14044 non-null float64\n",
            "lebensversicherung               15606 non-null float64\n",
            "baufinanzierung                  16250 non-null float64\n",
            "bausparen                        15452 non-null float64\n",
            "beschaeftigt_seit                16913 non-null float64\n",
            "alter                            16965 non-null float64\n",
            "wohnhaft                         16965 non-null float64\n",
            "dtypes: float64(31), int64(1)\n",
            "memory usage: 4.1 MB\n"
          ],
          "name": "stdout"
        }
      ]
    },
    {
      "cell_type": "code",
      "metadata": {
        "id": "ltU9wnQTvsvJ",
        "colab_type": "code",
        "outputId": "a4f55b5a-f65c-4b7c-da50-9f8f413d26f1",
        "colab": {
          "base_uri": "https://localhost:8080/",
          "height": 1000
        }
      },
      "source": [
        "print(\"---------------------------------------------------- Null values in the Dataset\")\n",
        "total = dataset.isnull().sum().sort_values(ascending=False)\n",
        "percent = (dataset.isnull().sum()/dataset.isnull().count()*100).sort_values(ascending=False)\n",
        "pd.concat([total, percent], axis = 1, keys=['Total Values', 'Percent'])"
      ],
      "execution_count": 11,
      "outputs": [
        {
          "output_type": "stream",
          "text": [
            "---------------------------------------------------- Null values in the Dataset\n"
          ],
          "name": "stdout"
        },
        {
          "output_type": "execute_result",
          "data": {
            "text/html": [
              "<div>\n",
              "<style scoped>\n",
              "    .dataframe tbody tr th:only-of-type {\n",
              "        vertical-align: middle;\n",
              "    }\n",
              "\n",
              "    .dataframe tbody tr th {\n",
              "        vertical-align: top;\n",
              "    }\n",
              "\n",
              "    .dataframe thead th {\n",
              "        text-align: right;\n",
              "    }\n",
              "</style>\n",
              "<table border=\"1\" class=\"dataframe\">\n",
              "  <thead>\n",
              "    <tr style=\"text-align: right;\">\n",
              "      <th></th>\n",
              "      <th>Total Values</th>\n",
              "      <th>Percent</th>\n",
              "    </tr>\n",
              "  </thead>\n",
              "  <tbody>\n",
              "    <tr>\n",
              "      <th>sonstiges</th>\n",
              "      <td>4181</td>\n",
              "      <td>24.644857</td>\n",
              "    </tr>\n",
              "    <tr>\n",
              "      <th>wohnnebenkosten</th>\n",
              "      <td>3024</td>\n",
              "      <td>17.824934</td>\n",
              "    </tr>\n",
              "    <tr>\n",
              "      <th>kranken_pflege_versicherung</th>\n",
              "      <td>2921</td>\n",
              "      <td>17.217801</td>\n",
              "    </tr>\n",
              "    <tr>\n",
              "      <th>bausparen</th>\n",
              "      <td>1513</td>\n",
              "      <td>8.918361</td>\n",
              "    </tr>\n",
              "    <tr>\n",
              "      <th>aus_miete</th>\n",
              "      <td>1476</td>\n",
              "      <td>8.700265</td>\n",
              "    </tr>\n",
              "    <tr>\n",
              "      <th>lebensversicherung</th>\n",
              "      <td>1359</td>\n",
              "      <td>8.010610</td>\n",
              "    </tr>\n",
              "    <tr>\n",
              "      <th>rente</th>\n",
              "      <td>1180</td>\n",
              "      <td>6.955497</td>\n",
              "    </tr>\n",
              "    <tr>\n",
              "      <th>ein_unterhalt</th>\n",
              "      <td>1168</td>\n",
              "      <td>6.884763</td>\n",
              "    </tr>\n",
              "    <tr>\n",
              "      <th>ein_miete</th>\n",
              "      <td>1095</td>\n",
              "      <td>6.454465</td>\n",
              "    </tr>\n",
              "    <tr>\n",
              "      <th>aus_unterhalt</th>\n",
              "      <td>1039</td>\n",
              "      <td>6.124374</td>\n",
              "    </tr>\n",
              "    <tr>\n",
              "      <th>kindergeld</th>\n",
              "      <td>740</td>\n",
              "      <td>4.361922</td>\n",
              "    </tr>\n",
              "    <tr>\n",
              "      <th>einkommen_unselbstaendig</th>\n",
              "      <td>725</td>\n",
              "      <td>4.273504</td>\n",
              "    </tr>\n",
              "    <tr>\n",
              "      <th>baufinanzierung</th>\n",
              "      <td>715</td>\n",
              "      <td>4.214559</td>\n",
              "    </tr>\n",
              "    <tr>\n",
              "      <th>beschaeftigt_seit</th>\n",
              "      <td>52</td>\n",
              "      <td>0.306513</td>\n",
              "    </tr>\n",
              "    <tr>\n",
              "      <th>frei_verfuegbares_einkommen</th>\n",
              "      <td>0</td>\n",
              "      <td>0.000000</td>\n",
              "    </tr>\n",
              "    <tr>\n",
              "      <th>kreditbetrag</th>\n",
              "      <td>0</td>\n",
              "      <td>0.000000</td>\n",
              "    </tr>\n",
              "    <tr>\n",
              "      <th>laufzeit</th>\n",
              "      <td>0</td>\n",
              "      <td>0.000000</td>\n",
              "    </tr>\n",
              "    <tr>\n",
              "      <th>verhaeltnis_einkommen_zu_rate</th>\n",
              "      <td>0</td>\n",
              "      <td>0.000000</td>\n",
              "    </tr>\n",
              "    <tr>\n",
              "      <th>wohnhaft</th>\n",
              "      <td>0</td>\n",
              "      <td>0.000000</td>\n",
              "    </tr>\n",
              "    <tr>\n",
              "      <th>summe_ausgaben</th>\n",
              "      <td>0</td>\n",
              "      <td>0.000000</td>\n",
              "    </tr>\n",
              "    <tr>\n",
              "      <th>summe_einnahmen</th>\n",
              "      <td>0</td>\n",
              "      <td>0.000000</td>\n",
              "    </tr>\n",
              "    <tr>\n",
              "      <th>schufa_score</th>\n",
              "      <td>0</td>\n",
              "      <td>0.000000</td>\n",
              "    </tr>\n",
              "    <tr>\n",
              "      <th>score_wert</th>\n",
              "      <td>0</td>\n",
              "      <td>0.000000</td>\n",
              "    </tr>\n",
              "    <tr>\n",
              "      <th>wohnsituation</th>\n",
              "      <td>0</td>\n",
              "      <td>0.000000</td>\n",
              "    </tr>\n",
              "    <tr>\n",
              "      <th>anzahl_kinder</th>\n",
              "      <td>0</td>\n",
              "      <td>0.000000</td>\n",
              "    </tr>\n",
              "    <tr>\n",
              "      <th>anzahl_personen</th>\n",
              "      <td>0</td>\n",
              "      <td>0.000000</td>\n",
              "    </tr>\n",
              "    <tr>\n",
              "      <th>anzahl_kfz</th>\n",
              "      <td>0</td>\n",
              "      <td>0.000000</td>\n",
              "    </tr>\n",
              "    <tr>\n",
              "      <th>beschaeftigungs_art</th>\n",
              "      <td>0</td>\n",
              "      <td>0.000000</td>\n",
              "    </tr>\n",
              "    <tr>\n",
              "      <th>anrede</th>\n",
              "      <td>0</td>\n",
              "      <td>0.000000</td>\n",
              "    </tr>\n",
              "    <tr>\n",
              "      <th>familienstand</th>\n",
              "      <td>0</td>\n",
              "      <td>0.000000</td>\n",
              "    </tr>\n",
              "    <tr>\n",
              "      <th>alter</th>\n",
              "      <td>0</td>\n",
              "      <td>0.000000</td>\n",
              "    </tr>\n",
              "    <tr>\n",
              "      <th>credit</th>\n",
              "      <td>0</td>\n",
              "      <td>0.000000</td>\n",
              "    </tr>\n",
              "  </tbody>\n",
              "</table>\n",
              "</div>"
            ],
            "text/plain": [
              "                               Total Values    Percent\n",
              "sonstiges                              4181  24.644857\n",
              "wohnnebenkosten                        3024  17.824934\n",
              "kranken_pflege_versicherung            2921  17.217801\n",
              "bausparen                              1513   8.918361\n",
              "aus_miete                              1476   8.700265\n",
              "lebensversicherung                     1359   8.010610\n",
              "rente                                  1180   6.955497\n",
              "ein_unterhalt                          1168   6.884763\n",
              "ein_miete                              1095   6.454465\n",
              "aus_unterhalt                          1039   6.124374\n",
              "kindergeld                              740   4.361922\n",
              "einkommen_unselbstaendig                725   4.273504\n",
              "baufinanzierung                         715   4.214559\n",
              "beschaeftigt_seit                        52   0.306513\n",
              "frei_verfuegbares_einkommen               0   0.000000\n",
              "kreditbetrag                              0   0.000000\n",
              "laufzeit                                  0   0.000000\n",
              "verhaeltnis_einkommen_zu_rate             0   0.000000\n",
              "wohnhaft                                  0   0.000000\n",
              "summe_ausgaben                            0   0.000000\n",
              "summe_einnahmen                           0   0.000000\n",
              "schufa_score                              0   0.000000\n",
              "score_wert                                0   0.000000\n",
              "wohnsituation                             0   0.000000\n",
              "anzahl_kinder                             0   0.000000\n",
              "anzahl_personen                           0   0.000000\n",
              "anzahl_kfz                                0   0.000000\n",
              "beschaeftigungs_art                       0   0.000000\n",
              "anrede                                    0   0.000000\n",
              "familienstand                             0   0.000000\n",
              "alter                                     0   0.000000\n",
              "credit                                    0   0.000000"
            ]
          },
          "metadata": {
            "tags": []
          },
          "execution_count": 11
        }
      ]
    },
    {
      "cell_type": "code",
      "metadata": {
        "id": "PlOSeJBmvsvL",
        "colab_type": "code",
        "outputId": "352340ca-4ded-4cfd-d940-4b91d1c71698",
        "colab": {
          "base_uri": "https://localhost:8080/",
          "height": 218
        }
      },
      "source": [
        "dataset.head()"
      ],
      "execution_count": 12,
      "outputs": [
        {
          "output_type": "execute_result",
          "data": {
            "text/html": [
              "<div>\n",
              "<style scoped>\n",
              "    .dataframe tbody tr th:only-of-type {\n",
              "        vertical-align: middle;\n",
              "    }\n",
              "\n",
              "    .dataframe tbody tr th {\n",
              "        vertical-align: top;\n",
              "    }\n",
              "\n",
              "    .dataframe thead th {\n",
              "        text-align: right;\n",
              "    }\n",
              "</style>\n",
              "<table border=\"1\" class=\"dataframe\">\n",
              "  <thead>\n",
              "    <tr style=\"text-align: right;\">\n",
              "      <th></th>\n",
              "      <th>credit</th>\n",
              "      <th>summe_einnahmen</th>\n",
              "      <th>summe_ausgaben</th>\n",
              "      <th>frei_verfuegbares_einkommen</th>\n",
              "      <th>verhaeltnis_einkommen_zu_rate</th>\n",
              "      <th>laufzeit</th>\n",
              "      <th>kreditbetrag</th>\n",
              "      <th>score_wert</th>\n",
              "      <th>schufa_score</th>\n",
              "      <th>anzahl_kinder</th>\n",
              "      <th>anzahl_personen</th>\n",
              "      <th>anzahl_kfz</th>\n",
              "      <th>beschaeftigungs_art</th>\n",
              "      <th>anrede</th>\n",
              "      <th>familienstand</th>\n",
              "      <th>wohnsituation</th>\n",
              "      <th>einkommen_unselbstaendig</th>\n",
              "      <th>rente</th>\n",
              "      <th>ein_unterhalt</th>\n",
              "      <th>kindergeld</th>\n",
              "      <th>ein_miete</th>\n",
              "      <th>sonstiges</th>\n",
              "      <th>aus_miete</th>\n",
              "      <th>wohnnebenkosten</th>\n",
              "      <th>aus_unterhalt</th>\n",
              "      <th>kranken_pflege_versicherung</th>\n",
              "      <th>lebensversicherung</th>\n",
              "      <th>baufinanzierung</th>\n",
              "      <th>bausparen</th>\n",
              "      <th>beschaeftigt_seit</th>\n",
              "      <th>alter</th>\n",
              "      <th>wohnhaft</th>\n",
              "    </tr>\n",
              "  </thead>\n",
              "  <tbody>\n",
              "    <tr>\n",
              "      <th>0</th>\n",
              "      <td>0</td>\n",
              "      <td>1069.0</td>\n",
              "      <td>1623.263889</td>\n",
              "      <td>-554.0</td>\n",
              "      <td>0.65</td>\n",
              "      <td>60.0</td>\n",
              "      <td>4990.0</td>\n",
              "      <td>268.0</td>\n",
              "      <td>9657.0</td>\n",
              "      <td>1.0</td>\n",
              "      <td>3.0</td>\n",
              "      <td>0.0</td>\n",
              "      <td>0.0</td>\n",
              "      <td>1.0</td>\n",
              "      <td>5.0</td>\n",
              "      <td>2.0</td>\n",
              "      <td>1068.0</td>\n",
              "      <td>0.0</td>\n",
              "      <td>0.0</td>\n",
              "      <td>1.0</td>\n",
              "      <td>0.0</td>\n",
              "      <td>NaN</td>\n",
              "      <td>570.0</td>\n",
              "      <td>NaN</td>\n",
              "      <td>0.0</td>\n",
              "      <td>NaN</td>\n",
              "      <td>0.0</td>\n",
              "      <td>0.0</td>\n",
              "      <td>0.0</td>\n",
              "      <td>159.0</td>\n",
              "      <td>49.0</td>\n",
              "      <td>6.0</td>\n",
              "    </tr>\n",
              "    <tr>\n",
              "      <th>1</th>\n",
              "      <td>0</td>\n",
              "      <td>2988.0</td>\n",
              "      <td>3192.191043</td>\n",
              "      <td>-204.0</td>\n",
              "      <td>0.70</td>\n",
              "      <td>24.0</td>\n",
              "      <td>5000.0</td>\n",
              "      <td>175.0</td>\n",
              "      <td>9712.0</td>\n",
              "      <td>2.0</td>\n",
              "      <td>3.0</td>\n",
              "      <td>1.0</td>\n",
              "      <td>2.0</td>\n",
              "      <td>1.0</td>\n",
              "      <td>4.0</td>\n",
              "      <td>2.0</td>\n",
              "      <td>2600.0</td>\n",
              "      <td>NaN</td>\n",
              "      <td>NaN</td>\n",
              "      <td>388.0</td>\n",
              "      <td>NaN</td>\n",
              "      <td>NaN</td>\n",
              "      <td>720.0</td>\n",
              "      <td>NaN</td>\n",
              "      <td>NaN</td>\n",
              "      <td>280.0</td>\n",
              "      <td>NaN</td>\n",
              "      <td>NaN</td>\n",
              "      <td>NaN</td>\n",
              "      <td>108.0</td>\n",
              "      <td>41.0</td>\n",
              "      <td>7.0</td>\n",
              "    </tr>\n",
              "    <tr>\n",
              "      <th>2</th>\n",
              "      <td>0</td>\n",
              "      <td>2088.0</td>\n",
              "      <td>1900.000000</td>\n",
              "      <td>188.0</td>\n",
              "      <td>0.60</td>\n",
              "      <td>72.0</td>\n",
              "      <td>7000.0</td>\n",
              "      <td>26.0</td>\n",
              "      <td>9830.0</td>\n",
              "      <td>2.0</td>\n",
              "      <td>4.0</td>\n",
              "      <td>0.0</td>\n",
              "      <td>0.0</td>\n",
              "      <td>0.0</td>\n",
              "      <td>5.0</td>\n",
              "      <td>2.0</td>\n",
              "      <td>1700.0</td>\n",
              "      <td>0.0</td>\n",
              "      <td>0.0</td>\n",
              "      <td>2.0</td>\n",
              "      <td>0.0</td>\n",
              "      <td>NaN</td>\n",
              "      <td>650.0</td>\n",
              "      <td>NaN</td>\n",
              "      <td>0.0</td>\n",
              "      <td>NaN</td>\n",
              "      <td>0.0</td>\n",
              "      <td>0.0</td>\n",
              "      <td>0.0</td>\n",
              "      <td>177.0</td>\n",
              "      <td>33.0</td>\n",
              "      <td>11.0</td>\n",
              "    </tr>\n",
              "    <tr>\n",
              "      <th>3</th>\n",
              "      <td>0</td>\n",
              "      <td>2055.0</td>\n",
              "      <td>1873.750000</td>\n",
              "      <td>181.0</td>\n",
              "      <td>0.60</td>\n",
              "      <td>72.0</td>\n",
              "      <td>7000.0</td>\n",
              "      <td>254.0</td>\n",
              "      <td>9946.0</td>\n",
              "      <td>0.0</td>\n",
              "      <td>1.0</td>\n",
              "      <td>1.0</td>\n",
              "      <td>0.0</td>\n",
              "      <td>1.0</td>\n",
              "      <td>0.0</td>\n",
              "      <td>2.0</td>\n",
              "      <td>2055.0</td>\n",
              "      <td>0.0</td>\n",
              "      <td>0.0</td>\n",
              "      <td>0.0</td>\n",
              "      <td>0.0</td>\n",
              "      <td>NaN</td>\n",
              "      <td>478.0</td>\n",
              "      <td>NaN</td>\n",
              "      <td>0.0</td>\n",
              "      <td>NaN</td>\n",
              "      <td>197.0</td>\n",
              "      <td>0.0</td>\n",
              "      <td>0.0</td>\n",
              "      <td>164.0</td>\n",
              "      <td>50.0</td>\n",
              "      <td>6.0</td>\n",
              "    </tr>\n",
              "    <tr>\n",
              "      <th>4</th>\n",
              "      <td>0</td>\n",
              "      <td>1688.0</td>\n",
              "      <td>1337.592723</td>\n",
              "      <td>350.0</td>\n",
              "      <td>0.60</td>\n",
              "      <td>84.0</td>\n",
              "      <td>10000.0</td>\n",
              "      <td>286.0</td>\n",
              "      <td>9673.0</td>\n",
              "      <td>2.0</td>\n",
              "      <td>4.0</td>\n",
              "      <td>0.0</td>\n",
              "      <td>0.0</td>\n",
              "      <td>1.0</td>\n",
              "      <td>5.0</td>\n",
              "      <td>0.0</td>\n",
              "      <td>1300.0</td>\n",
              "      <td>0.0</td>\n",
              "      <td>0.0</td>\n",
              "      <td>384.0</td>\n",
              "      <td>0.0</td>\n",
              "      <td>NaN</td>\n",
              "      <td>NaN</td>\n",
              "      <td>0.0</td>\n",
              "      <td>0.0</td>\n",
              "      <td>NaN</td>\n",
              "      <td>0.0</td>\n",
              "      <td>300.0</td>\n",
              "      <td>0.0</td>\n",
              "      <td>213.0</td>\n",
              "      <td>38.0</td>\n",
              "      <td>11.0</td>\n",
              "    </tr>\n",
              "  </tbody>\n",
              "</table>\n",
              "</div>"
            ],
            "text/plain": [
              "   credit  summe_einnahmen  summe_ausgaben  ...  beschaeftigt_seit  alter  wohnhaft\n",
              "0       0           1069.0     1623.263889  ...              159.0   49.0       6.0\n",
              "1       0           2988.0     3192.191043  ...              108.0   41.0       7.0\n",
              "2       0           2088.0     1900.000000  ...              177.0   33.0      11.0\n",
              "3       0           2055.0     1873.750000  ...              164.0   50.0       6.0\n",
              "4       0           1688.0     1337.592723  ...              213.0   38.0      11.0\n",
              "\n",
              "[5 rows x 32 columns]"
            ]
          },
          "metadata": {
            "tags": []
          },
          "execution_count": 12
        }
      ]
    },
    {
      "cell_type": "code",
      "metadata": {
        "id": "uotF_IAPvsvO",
        "colab_type": "code",
        "colab": {}
      },
      "source": [
        "dataset.to_csv('PreProcessedData.csv', index=False)"
      ],
      "execution_count": 0,
      "outputs": []
    },
    {
      "cell_type": "code",
      "metadata": {
        "id": "Vpysdu3RP3YR",
        "colab_type": "code",
        "colab": {}
      },
      "source": [
        ""
      ],
      "execution_count": 0,
      "outputs": []
    },
    {
      "cell_type": "code",
      "metadata": {
        "id": "kmnm7YrxP4ev",
        "colab_type": "code",
        "colab": {}
      },
      "source": [
        ""
      ],
      "execution_count": 0,
      "outputs": []
    },
    {
      "cell_type": "code",
      "metadata": {
        "id": "BFNAigaDQN3w",
        "colab_type": "code",
        "colab": {}
      },
      "source": [
        ""
      ],
      "execution_count": 0,
      "outputs": []
    },
    {
      "cell_type": "code",
      "metadata": {
        "id": "OXStMlKAvsvR",
        "colab_type": "code",
        "colab": {}
      },
      "source": [
        "#imputing NA\n",
        "#dataset.fillna(dataset.median(), inplace=True)\n"
      ],
      "execution_count": 0,
      "outputs": []
    },
    {
      "cell_type": "code",
      "metadata": {
        "id": "-pU52yjIvsvV",
        "colab_type": "code",
        "colab": {}
      },
      "source": [
        "#dividing label and Data\n",
        "y = dataset['credit']\n",
        "X = dataset.drop('credit',axis=1)"
      ],
      "execution_count": 0,
      "outputs": []
    },
    {
      "cell_type": "code",
      "metadata": {
        "id": "7A5Z3r80RYYx",
        "colab_type": "code",
        "outputId": "0d249506-3e25-4152-9380-82d9bf1523e8",
        "colab": {
          "base_uri": "https://localhost:8080/",
          "height": 1000
        }
      },
      "source": [
        "\n",
        "\n",
        "# Use 3 nearest rows which have a feature to fill in each row's missing features\n",
        "X = KNN(k=3).fit_transform(X)\n"
      ],
      "execution_count": 15,
      "outputs": [
        {
          "output_type": "stream",
          "text": [
            "Imputing row 1/16965 with 3 missing, elapsed time: 79.399\n",
            "Imputing row 101/16965 with 0 missing, elapsed time: 79.416\n",
            "Imputing row 201/16965 with 6 missing, elapsed time: 79.427\n",
            "Imputing row 301/16965 with 0 missing, elapsed time: 79.443\n",
            "Imputing row 401/16965 with 0 missing, elapsed time: 79.463\n",
            "Imputing row 501/16965 with 1 missing, elapsed time: 79.478\n",
            "Imputing row 601/16965 with 0 missing, elapsed time: 79.495\n",
            "Imputing row 701/16965 with 0 missing, elapsed time: 79.512\n",
            "Imputing row 801/16965 with 0 missing, elapsed time: 79.537\n",
            "Imputing row 901/16965 with 0 missing, elapsed time: 79.564\n",
            "Imputing row 1001/16965 with 0 missing, elapsed time: 79.585\n",
            "Imputing row 1101/16965 with 3 missing, elapsed time: 79.620\n",
            "Imputing row 1201/16965 with 0 missing, elapsed time: 79.648\n",
            "Imputing row 1301/16965 with 0 missing, elapsed time: 79.673\n",
            "Imputing row 1401/16965 with 0 missing, elapsed time: 79.716\n",
            "Imputing row 1501/16965 with 3 missing, elapsed time: 79.736\n",
            "Imputing row 1601/16965 with 9 missing, elapsed time: 79.752\n",
            "Imputing row 1701/16965 with 11 missing, elapsed time: 79.764\n",
            "Imputing row 1801/16965 with 0 missing, elapsed time: 79.786\n",
            "Imputing row 1901/16965 with 0 missing, elapsed time: 79.807\n",
            "Imputing row 2001/16965 with 0 missing, elapsed time: 79.837\n",
            "Imputing row 2101/16965 with 0 missing, elapsed time: 79.857\n",
            "Imputing row 2201/16965 with 0 missing, elapsed time: 79.874\n",
            "Imputing row 2301/16965 with 10 missing, elapsed time: 79.884\n",
            "Imputing row 2401/16965 with 3 missing, elapsed time: 79.904\n",
            "Imputing row 2501/16965 with 0 missing, elapsed time: 79.917\n",
            "Imputing row 2601/16965 with 0 missing, elapsed time: 79.936\n",
            "Imputing row 2701/16965 with 0 missing, elapsed time: 79.953\n",
            "Imputing row 2801/16965 with 0 missing, elapsed time: 79.964\n",
            "Imputing row 2901/16965 with 0 missing, elapsed time: 79.976\n",
            "Imputing row 3001/16965 with 4 missing, elapsed time: 79.986\n",
            "Imputing row 3101/16965 with 0 missing, elapsed time: 80.008\n",
            "Imputing row 3201/16965 with 0 missing, elapsed time: 80.021\n",
            "Imputing row 3301/16965 with 0 missing, elapsed time: 80.026\n",
            "Imputing row 3401/16965 with 0 missing, elapsed time: 80.037\n",
            "Imputing row 3501/16965 with 0 missing, elapsed time: 80.052\n",
            "Imputing row 3601/16965 with 10 missing, elapsed time: 80.063\n",
            "Imputing row 3701/16965 with 3 missing, elapsed time: 80.077\n",
            "Imputing row 3801/16965 with 0 missing, elapsed time: 80.091\n",
            "Imputing row 3901/16965 with 0 missing, elapsed time: 80.098\n",
            "Imputing row 4001/16965 with 0 missing, elapsed time: 80.106\n",
            "Imputing row 4101/16965 with 0 missing, elapsed time: 80.113\n",
            "Imputing row 4201/16965 with 0 missing, elapsed time: 80.121\n",
            "Imputing row 4301/16965 with 0 missing, elapsed time: 80.135\n",
            "Imputing row 4401/16965 with 3 missing, elapsed time: 80.148\n",
            "Imputing row 4501/16965 with 0 missing, elapsed time: 80.159\n",
            "Imputing row 4601/16965 with 0 missing, elapsed time: 80.173\n",
            "Imputing row 4701/16965 with 0 missing, elapsed time: 80.184\n",
            "Imputing row 4801/16965 with 0 missing, elapsed time: 80.199\n",
            "Imputing row 4901/16965 with 0 missing, elapsed time: 80.211\n",
            "Imputing row 5001/16965 with 0 missing, elapsed time: 80.226\n",
            "Imputing row 5101/16965 with 0 missing, elapsed time: 80.247\n",
            "Imputing row 5201/16965 with 4 missing, elapsed time: 80.259\n",
            "Imputing row 5301/16965 with 1 missing, elapsed time: 80.275\n",
            "Imputing row 5401/16965 with 3 missing, elapsed time: 80.293\n",
            "Imputing row 5501/16965 with 0 missing, elapsed time: 80.307\n",
            "Imputing row 5601/16965 with 0 missing, elapsed time: 80.316\n",
            "Imputing row 5701/16965 with 0 missing, elapsed time: 80.327\n",
            "Imputing row 5801/16965 with 0 missing, elapsed time: 80.342\n",
            "Imputing row 5901/16965 with 3 missing, elapsed time: 80.355\n",
            "Imputing row 6001/16965 with 0 missing, elapsed time: 80.368\n",
            "Imputing row 6101/16965 with 0 missing, elapsed time: 80.377\n",
            "Imputing row 6201/16965 with 0 missing, elapsed time: 80.390\n",
            "Imputing row 6301/16965 with 0 missing, elapsed time: 80.407\n",
            "Imputing row 6401/16965 with 4 missing, elapsed time: 80.422\n",
            "Imputing row 6501/16965 with 0 missing, elapsed time: 80.441\n",
            "Imputing row 6601/16965 with 0 missing, elapsed time: 80.461\n",
            "Imputing row 6701/16965 with 3 missing, elapsed time: 80.477\n",
            "Imputing row 6801/16965 with 3 missing, elapsed time: 80.498\n",
            "Imputing row 6901/16965 with 0 missing, elapsed time: 80.514\n",
            "Imputing row 7001/16965 with 3 missing, elapsed time: 80.529\n",
            "Imputing row 7101/16965 with 0 missing, elapsed time: 80.545\n",
            "Imputing row 7201/16965 with 0 missing, elapsed time: 80.560\n",
            "Imputing row 7301/16965 with 8 missing, elapsed time: 80.575\n",
            "Imputing row 7401/16965 with 4 missing, elapsed time: 80.586\n",
            "Imputing row 7501/16965 with 3 missing, elapsed time: 80.605\n",
            "Imputing row 7601/16965 with 3 missing, elapsed time: 80.619\n",
            "Imputing row 7701/16965 with 0 missing, elapsed time: 80.629\n",
            "Imputing row 7801/16965 with 0 missing, elapsed time: 80.634\n",
            "Imputing row 7901/16965 with 0 missing, elapsed time: 80.645\n",
            "Imputing row 8001/16965 with 3 missing, elapsed time: 80.657\n",
            "Imputing row 8101/16965 with 0 missing, elapsed time: 80.689\n",
            "Imputing row 8201/16965 with 8 missing, elapsed time: 80.710\n",
            "Imputing row 8301/16965 with 0 missing, elapsed time: 80.737\n",
            "Imputing row 8401/16965 with 0 missing, elapsed time: 80.754\n",
            "Imputing row 8501/16965 with 4 missing, elapsed time: 80.772\n",
            "Imputing row 8601/16965 with 0 missing, elapsed time: 80.790\n",
            "Imputing row 8701/16965 with 0 missing, elapsed time: 80.804\n",
            "Imputing row 8801/16965 with 0 missing, elapsed time: 80.823\n",
            "Imputing row 8901/16965 with 0 missing, elapsed time: 80.843\n",
            "Imputing row 9001/16965 with 3 missing, elapsed time: 80.863\n",
            "Imputing row 9101/16965 with 0 missing, elapsed time: 80.878\n",
            "Imputing row 9201/16965 with 3 missing, elapsed time: 80.898\n",
            "Imputing row 9301/16965 with 0 missing, elapsed time: 80.913\n",
            "Imputing row 9401/16965 with 7 missing, elapsed time: 80.926\n",
            "Imputing row 9501/16965 with 4 missing, elapsed time: 80.942\n",
            "Imputing row 9601/16965 with 0 missing, elapsed time: 80.961\n",
            "Imputing row 9701/16965 with 0 missing, elapsed time: 80.979\n",
            "Imputing row 9801/16965 with 0 missing, elapsed time: 80.996\n",
            "Imputing row 9901/16965 with 2 missing, elapsed time: 81.019\n",
            "Imputing row 10001/16965 with 0 missing, elapsed time: 81.038\n",
            "Imputing row 10101/16965 with 0 missing, elapsed time: 81.060\n",
            "Imputing row 10201/16965 with 0 missing, elapsed time: 81.078\n",
            "Imputing row 10301/16965 with 6 missing, elapsed time: 81.094\n",
            "Imputing row 10401/16965 with 0 missing, elapsed time: 81.111\n",
            "Imputing row 10501/16965 with 0 missing, elapsed time: 81.127\n",
            "Imputing row 10601/16965 with 0 missing, elapsed time: 81.140\n",
            "Imputing row 10701/16965 with 0 missing, elapsed time: 81.155\n",
            "Imputing row 10801/16965 with 0 missing, elapsed time: 81.171\n",
            "Imputing row 10901/16965 with 2 missing, elapsed time: 81.181\n",
            "Imputing row 11001/16965 with 0 missing, elapsed time: 81.188\n",
            "Imputing row 11101/16965 with 4 missing, elapsed time: 81.200\n",
            "Imputing row 11201/16965 with 0 missing, elapsed time: 81.211\n",
            "Imputing row 11301/16965 with 0 missing, elapsed time: 81.223\n",
            "Imputing row 11401/16965 with 0 missing, elapsed time: 81.238\n",
            "Imputing row 11501/16965 with 0 missing, elapsed time: 81.250\n",
            "Imputing row 11601/16965 with 0 missing, elapsed time: 81.261\n",
            "Imputing row 11701/16965 with 10 missing, elapsed time: 81.276\n",
            "Imputing row 11801/16965 with 3 missing, elapsed time: 81.290\n",
            "Imputing row 11901/16965 with 0 missing, elapsed time: 81.303\n",
            "Imputing row 12001/16965 with 0 missing, elapsed time: 81.308\n",
            "Imputing row 12101/16965 with 0 missing, elapsed time: 81.325\n",
            "Imputing row 12201/16965 with 0 missing, elapsed time: 81.335\n",
            "Imputing row 12301/16965 with 0 missing, elapsed time: 81.352\n",
            "Imputing row 12401/16965 with 0 missing, elapsed time: 81.368\n",
            "Imputing row 12501/16965 with 0 missing, elapsed time: 81.379\n",
            "Imputing row 12601/16965 with 0 missing, elapsed time: 81.392\n",
            "Imputing row 12701/16965 with 0 missing, elapsed time: 81.401\n",
            "Imputing row 12801/16965 with 0 missing, elapsed time: 81.411\n",
            "Imputing row 12901/16965 with 0 missing, elapsed time: 81.418\n",
            "Imputing row 13001/16965 with 0 missing, elapsed time: 81.430\n",
            "Imputing row 13101/16965 with 0 missing, elapsed time: 81.439\n",
            "Imputing row 13201/16965 with 0 missing, elapsed time: 81.450\n",
            "Imputing row 13301/16965 with 0 missing, elapsed time: 81.455\n",
            "Imputing row 13401/16965 with 3 missing, elapsed time: 81.468\n",
            "Imputing row 13501/16965 with 0 missing, elapsed time: 81.489\n",
            "Imputing row 13601/16965 with 3 missing, elapsed time: 81.503\n",
            "Imputing row 13701/16965 with 0 missing, elapsed time: 81.517\n",
            "Imputing row 13801/16965 with 0 missing, elapsed time: 81.534\n",
            "Imputing row 13901/16965 with 0 missing, elapsed time: 81.548\n",
            "Imputing row 14001/16965 with 0 missing, elapsed time: 81.562\n",
            "Imputing row 14101/16965 with 3 missing, elapsed time: 81.575\n",
            "Imputing row 14201/16965 with 0 missing, elapsed time: 81.586\n",
            "Imputing row 14301/16965 with 0 missing, elapsed time: 81.596\n",
            "Imputing row 14401/16965 with 0 missing, elapsed time: 81.604\n",
            "Imputing row 14501/16965 with 0 missing, elapsed time: 81.613\n",
            "Imputing row 14601/16965 with 0 missing, elapsed time: 81.624\n",
            "Imputing row 14701/16965 with 0 missing, elapsed time: 81.638\n",
            "Imputing row 14801/16965 with 4 missing, elapsed time: 81.653\n",
            "Imputing row 14901/16965 with 0 missing, elapsed time: 81.669\n",
            "Imputing row 15001/16965 with 0 missing, elapsed time: 81.691\n",
            "Imputing row 15101/16965 with 0 missing, elapsed time: 81.711\n",
            "Imputing row 15201/16965 with 0 missing, elapsed time: 81.725\n",
            "Imputing row 15301/16965 with 0 missing, elapsed time: 81.747\n",
            "Imputing row 15401/16965 with 0 missing, elapsed time: 81.776\n",
            "Imputing row 15501/16965 with 0 missing, elapsed time: 81.792\n",
            "Imputing row 15601/16965 with 0 missing, elapsed time: 81.816\n",
            "Imputing row 15701/16965 with 0 missing, elapsed time: 81.833\n",
            "Imputing row 15801/16965 with 0 missing, elapsed time: 81.851\n",
            "Imputing row 15901/16965 with 0 missing, elapsed time: 81.866\n",
            "Imputing row 16001/16965 with 0 missing, elapsed time: 81.882\n",
            "Imputing row 16101/16965 with 3 missing, elapsed time: 81.897\n",
            "Imputing row 16201/16965 with 0 missing, elapsed time: 81.915\n",
            "Imputing row 16301/16965 with 0 missing, elapsed time: 81.928\n",
            "Imputing row 16401/16965 with 0 missing, elapsed time: 81.944\n",
            "Imputing row 16501/16965 with 0 missing, elapsed time: 81.955\n",
            "Imputing row 16601/16965 with 0 missing, elapsed time: 81.974\n",
            "Imputing row 16701/16965 with 10 missing, elapsed time: 81.993\n",
            "Imputing row 16801/16965 with 0 missing, elapsed time: 82.013\n",
            "Imputing row 16901/16965 with 11 missing, elapsed time: 82.029\n"
          ],
          "name": "stdout"
        }
      ]
    },
    {
      "cell_type": "code",
      "metadata": {
        "id": "BwbSrxClvsvY",
        "colab_type": "code",
        "colab": {}
      },
      "source": [
        "#Shuffle Data\n",
        "from sklearn.utils import shuffle\n",
        "\n",
        "X, y = shuffle(X, y)"
      ],
      "execution_count": 0,
      "outputs": []
    },
    {
      "cell_type": "code",
      "metadata": {
        "id": "eDY-Y2DIvsvd",
        "colab_type": "code",
        "colab": {}
      },
      "source": [
        "#Dividing the data into test and train\n",
        "X_train, X_test, y_train, y_test = train_test_split(X, y, test_size=0.15, random_state=42)"
      ],
      "execution_count": 0,
      "outputs": []
    },
    {
      "cell_type": "code",
      "metadata": {
        "id": "_rptQ0MJvsvg",
        "colab_type": "code",
        "colab": {}
      },
      "source": [
        ""
      ],
      "execution_count": 0,
      "outputs": []
    },
    {
      "cell_type": "markdown",
      "metadata": {
        "id": "LEJVSurubdVL",
        "colab_type": "text"
      },
      "source": [
        "# XG Boost Classifier\n"
      ]
    },
    {
      "cell_type": "code",
      "metadata": {
        "id": "aeXN5ptSvsvj",
        "colab_type": "code",
        "colab": {}
      },
      "source": [
        "#convert the dataset into an optimized data structure called Dmatrix that XGBoost supports\n",
        "data_dmatrix = xgb.DMatrix(data=X,label=y)\n",
        " \n"
      ],
      "execution_count": 0,
      "outputs": []
    },
    {
      "cell_type": "code",
      "metadata": {
        "id": "iNOthlywvsvo",
        "colab_type": "code",
        "colab": {}
      },
      "source": [
        "xg_reg = xgb.XGBClassifier(objective ='binary:logistic', colsample_bytree = 0.3, learning_rate = 0.1,max_depth = 5, alpha = 10, n_estimators = 10)"
      ],
      "execution_count": 0,
      "outputs": []
    },
    {
      "cell_type": "code",
      "metadata": {
        "id": "4WyU9FiWvsvr",
        "colab_type": "code",
        "outputId": "1e02853d-9f64-4a92-ae4d-33dd04d5ba64",
        "colab": {
          "base_uri": "https://localhost:8080/",
          "height": 145
        }
      },
      "source": [
        "xg_reg.fit(X_train,y_train)\n"
      ],
      "execution_count": 20,
      "outputs": [
        {
          "output_type": "execute_result",
          "data": {
            "text/plain": [
              "XGBClassifier(alpha=10, base_score=0.5, booster='gbtree', colsample_bylevel=1,\n",
              "              colsample_bynode=1, colsample_bytree=0.3, gamma=0,\n",
              "              learning_rate=0.1, max_delta_step=0, max_depth=5,\n",
              "              min_child_weight=1, missing=None, n_estimators=10, n_jobs=1,\n",
              "              nthread=None, objective='binary:logistic', random_state=0,\n",
              "              reg_alpha=0, reg_lambda=1, scale_pos_weight=1, seed=None,\n",
              "              silent=None, subsample=1, verbosity=1)"
            ]
          },
          "metadata": {
            "tags": []
          },
          "execution_count": 20
        }
      ]
    },
    {
      "cell_type": "code",
      "metadata": {
        "id": "3bBAsgcQVDrF",
        "colab_type": "code",
        "colab": {}
      },
      "source": [
        ""
      ],
      "execution_count": 0,
      "outputs": []
    },
    {
      "cell_type": "code",
      "metadata": {
        "id": "msq3slWBvsvx",
        "colab_type": "code",
        "colab": {}
      },
      "source": [
        "predsTrain = xg_reg.predict(X_train)\n",
        "predsTest = xg_reg.predict(X_test)\n",
        "\n"
      ],
      "execution_count": 0,
      "outputs": []
    },
    {
      "cell_type": "code",
      "metadata": {
        "id": "3JsWxKfHvsv1",
        "colab_type": "code",
        "outputId": "8230f25f-ca58-442e-c551-72de633cbde7",
        "colab": {
          "base_uri": "https://localhost:8080/",
          "height": 35
        }
      },
      "source": [
        "rmse = np.sqrt(mean_squared_error(y_train, predsTrain))\n",
        "print(\"RMSE: %f\" % (rmse))"
      ],
      "execution_count": 22,
      "outputs": [
        {
          "output_type": "stream",
          "text": [
            "RMSE: 0.558319\n"
          ],
          "name": "stdout"
        }
      ]
    },
    {
      "cell_type": "code",
      "metadata": {
        "id": "kirjMtXjvsv4",
        "colab_type": "code",
        "outputId": "05c59648-2edb-4926-aa0e-1e9b97fdd992",
        "colab": {
          "base_uri": "https://localhost:8080/",
          "height": 35
        }
      },
      "source": [
        "from sklearn.metrics import accuracy_score\n",
        "\n",
        "accuracy_score(y_train, predsTrain)\n"
      ],
      "execution_count": 23,
      "outputs": [
        {
          "output_type": "execute_result",
          "data": {
            "text/plain": [
              "0.6882801664355063"
            ]
          },
          "metadata": {
            "tags": []
          },
          "execution_count": 23
        }
      ]
    },
    {
      "cell_type": "code",
      "metadata": {
        "id": "d2I12cGSvsv6",
        "colab_type": "code",
        "outputId": "7b2d846f-fc24-48a3-bd53-d901ba7f7cdc",
        "colab": {
          "base_uri": "https://localhost:8080/",
          "height": 319
        }
      },
      "source": [
        "labels = [1, 0]\n",
        "cm = confusion_matrix(y_train, predsTrain, labels)\n",
        "fig = plt.figure()\n",
        "ax = fig.add_subplot(111)\n",
        "cax = ax.matshow(cm)\n",
        "plt.title('Confusion matrix of the XGBoost in Training\\n\\n')\n",
        "fig.colorbar(cax)\n",
        "ax.set_xticklabels([''] + labels)\n",
        "ax.set_yticklabels([''] + labels)\n",
        "plt.xlabel('Predicted')\n",
        "plt.ylabel('True')\n",
        "plt.show()"
      ],
      "execution_count": 24,
      "outputs": [
        {
          "output_type": "display_data",
          "data": {
            "image/png": "[encoded data removed]",
            "text/plain": [
              "<Figure size 432x288 with 2 Axes>"
            ]
          },
          "metadata": {
            "tags": []
          }
        }
      ]
    },
    {
      "cell_type": "code",
      "metadata": {
        "id": "pGX9MfUdvsv8",
        "colab_type": "code",
        "outputId": "bdf52bea-cdbd-4a27-d52b-94ea12f72dd1",
        "colab": {
          "base_uri": "https://localhost:8080/",
          "height": 599
        }
      },
      "source": [
        "importances = xg_reg.feature_importances_\n",
        "#Sort it\n",
        "print (\"Feature Importance:\")\n",
        "sorted_feature_importance = sorted(zip(importances, dataset.columns), reverse=True)\n",
        "for i in sorted_feature_importance:\n",
        "    print(i)"
      ],
      "execution_count": 25,
      "outputs": [
        {
          "output_type": "stream",
          "text": [
            "Feature Importance:\n",
            "(0.17118576, 'frei_verfuegbares_einkommen')\n",
            "(0.14136077, 'score_wert')\n",
            "(0.062137682, 'laufzeit')\n",
            "(0.05742045, 'ein_miete')\n",
            "(0.05571139, 'summe_ausgaben')\n",
            "(0.053665724, 'kranken_pflege_versicherung')\n",
            "(0.04777346, 'wohnsituation')\n",
            "(0.039441418, 'anzahl_personen')\n",
            "(0.034986917, 'aus_unterhalt')\n",
            "(0.03466048, 'ein_unterhalt')\n",
            "(0.02808135, 'credit')\n",
            "(0.025560334, 'aus_miete')\n",
            "(0.025553795, 'sonstiges')\n",
            "(0.023752136, 'familienstand')\n",
            "(0.023254309, 'bausparen')\n",
            "(0.01797649, 'schufa_score')\n",
            "(0.017845932, 'verhaeltnis_einkommen_zu_rate')\n",
            "(0.017764, 'wohnnebenkosten')\n",
            "(0.01753708, 'anrede')\n",
            "(0.01571152, 'beschaeftigungs_art')\n",
            "(0.014330566, 'kreditbetrag')\n",
            "(0.0124157, 'rente')\n",
            "(0.012314548, 'anzahl_kinder')\n",
            "(0.0121980505, 'summe_einnahmen')\n",
            "(0.011707733, 'kindergeld')\n",
            "(0.011447078, 'beschaeftigt_seit')\n",
            "(0.00827989, 'lebensversicherung')\n",
            "(0.0059254244, 'baufinanzierung')\n",
            "(0.0, 'einkommen_unselbstaendig')\n",
            "(0.0, 'anzahl_kfz')\n",
            "(0.0, 'alter')\n"
          ],
          "name": "stdout"
        }
      ]
    },
    {
      "cell_type": "code",
      "metadata": {
        "id": "PCwrqXqKvswC",
        "colab_type": "code",
        "outputId": "15798348-851a-442c-8d5a-ada13fdb81fd",
        "colab": {
          "base_uri": "https://localhost:8080/",
          "height": 108
        }
      },
      "source": [
        "#implementing grid search for best results of XG Boost\n",
        "optimization_dict = {'max_depth': [4,6,8],\n",
        "                     'n_estimators': [100,200,400]}\n",
        "\n",
        "model_Grid_XGBoost = GridSearchCV(xg_reg, optimization_dict, \n",
        "                     scoring='accuracy', verbose=1,cv=5 )\n",
        "\n",
        "model_Grid_XGBoost.fit(X_train,y_train)\n",
        "print(model_Grid_XGBoost.best_score_)\n",
        "print(model_Grid_XGBoost.best_params_)\n",
        "preds = model_Grid_XGBoost.best_estimator_.predict(X_test)\n"
      ],
      "execution_count": 26,
      "outputs": [
        {
          "output_type": "stream",
          "text": [
            "Fitting 5 folds for each of 9 candidates, totalling 45 fits\n"
          ],
          "name": "stdout"
        },
        {
          "output_type": "stream",
          "text": [
            "[Parallel(n_jobs=1)]: Using backend SequentialBackend with 1 concurrent workers.\n",
            "[Parallel(n_jobs=1)]: Done  45 out of  45 | elapsed:  2.0min finished\n"
          ],
          "name": "stderr"
        },
        {
          "output_type": "stream",
          "text": [
            "0.7088072122052704\n",
            "{'max_depth': 4, 'n_estimators': 400}\n"
          ],
          "name": "stdout"
        }
      ]
    },
    {
      "cell_type": "code",
      "metadata": {
        "id": "YVCnYDlgcUSf",
        "colab_type": "code",
        "colab": {}
      },
      "source": [
        "XGBoostTrainAccuracy = model_Grid_XGBoost.best_score_\n"
      ],
      "execution_count": 0,
      "outputs": []
    },
    {
      "cell_type": "code",
      "metadata": {
        "id": "8PXd2ZVRorJT",
        "colab_type": "code",
        "outputId": "3805b32f-e18a-48d2-f170-e7a1aeb360bd",
        "colab": {
          "base_uri": "https://localhost:8080/",
          "height": 54
        }
      },
      "source": [
        "print(\"Train Accuracy :\",XGBoostTrainAccuracy)\n",
        "XGBoostTestAccuracy = accuracy_score(y_test, preds)\n",
        "print(\"Test Accuracy :\",accuracy_score(y_test, preds))"
      ],
      "execution_count": 28,
      "outputs": [
        {
          "output_type": "stream",
          "text": [
            "Train Accuracy : 0.7088072122052704\n",
            "Test Accuracy : 0.7056974459724951\n"
          ],
          "name": "stdout"
        }
      ]
    },
    {
      "cell_type": "code",
      "metadata": {
        "id": "re92ClBrb_Jl",
        "colab_type": "code",
        "outputId": "d9eb9189-2d1a-4e27-f22c-4cf9153df059",
        "colab": {
          "base_uri": "https://localhost:8080/",
          "height": 538
        }
      },
      "source": [
        "importances = model_Grid_XGBoost.best_estimator_.feature_importances_\n",
        "\n",
        "# feature importance\n",
        "FeatureNames = list(dataset.columns.values)\n",
        "FeatureNames = FeatureNames[1:]\n",
        "\n",
        "# plot\n",
        "\n",
        "plot_bar_x(\"Feature Importance\",\"Feature Name\",\"Score\",FeatureNames,importances)\n",
        "\n",
        "\n",
        "plt.show()"
      ],
      "execution_count": 29,
      "outputs": [
        {
          "output_type": "display_data",
          "data": {
            "image/png": "[encoded data removed]",
            "text/plain": [
              "<Figure size 432x288 with 1 Axes>"
            ]
          },
          "metadata": {
            "tags": []
          }
        }
      ]
    },
    {
      "cell_type": "code",
      "metadata": {
        "id": "4hToMwUDvswG",
        "colab_type": "code",
        "outputId": "0c4c2301-775d-40ab-cefd-777e40e83696",
        "colab": {
          "base_uri": "https://localhost:8080/",
          "height": 352
        }
      },
      "source": [
        "from sklearn.utils.multiclass import unique_labels\n",
        "def plot_confusion_matrix(y_true, y_pred, classes,\n",
        "                          normalize=False,\n",
        "                          title=None,\n",
        "                          cmap=plt.cm.Blues):\n",
        "    \"\"\"\n",
        "    This function prints and plots the confusion matrix.\n",
        "    Normalization can be applied by setting `normalize=True`.\n",
        "    \"\"\"\n",
        "\n",
        "    # Compute confusion matrix\n",
        "    cm = confusion_matrix(y_true, y_pred)\n",
        "    # Only use the labels that appear in the data\n",
        "    classes = classes[unique_labels(y_true, y_pred)]\n",
        "    if normalize:\n",
        "        cm = cm.astype('float') / cm.sum(axis=1)[:, np.newaxis]\n",
        "        print(\"Normalized confusion matrix\")\n",
        "    else:\n",
        "        print('Confusion matrix, without normalization')\n",
        "\n",
        "    print(cm)\n",
        "\n",
        "    fig, ax = plt.subplots()\n",
        "    im = ax.imshow(cm, interpolation='nearest', cmap=cmap)\n",
        "    ax.figure.colorbar(im, ax=ax)\n",
        "    # We want to show all ticks...\n",
        "    ax.set(xticks=np.arange(cm.shape[1]),\n",
        "           yticks=np.arange(cm.shape[0]),\n",
        "           # ... and label them with the respective list entries\n",
        "           xticklabels=['GENEHMIGT','ABGELEHNT'], yticklabels=['GENEHMIGT','ABGELEHNT'],\n",
        "           title=title,\n",
        "           ylabel='True label',\n",
        "           xlabel='Predicted label')\n",
        "\n",
        "    # Rotate the tick labels and set their alignment.\n",
        "    plt.setp(ax.get_xticklabels(), rotation=45, ha=\"right\",\n",
        "             rotation_mode=\"anchor\")\n",
        "\n",
        "    # Loop over data dimensions and create text annotations.\n",
        "    fmt = '.2f' if normalize else 'd'\n",
        "    thresh = cm.max() / 2.\n",
        "    for i in range(cm.shape[0]):\n",
        "        for j in range(cm.shape[1]):\n",
        "            ax.text(j, i, format(cm[i, j], fmt),\n",
        "                    ha=\"center\", va=\"center\",\n",
        "                    color=\"white\" if cm[i, j] > thresh else \"black\")\n",
        "    fig.tight_layout()\n",
        "    return ax\n",
        "\n",
        "\n",
        "np.set_printoptions(precision=2)\n",
        "\n",
        "class_names = dataset.columns #['ABGELEHNT','GENEHMIGT']\n",
        "\n",
        "# Plot non-normalized confusion matrix\n",
        "plot_confusion_matrix(y_test, preds, classes=class_names,\n",
        "                      title='Confusion matrix, without normalization')\n",
        "\n",
        "plt.show()"
      ],
      "execution_count": 30,
      "outputs": [
        {
          "output_type": "stream",
          "text": [
            "Confusion matrix, without normalization\n",
            "[[ 677  465]\n",
            " [ 284 1119]]\n"
          ],
          "name": "stdout"
        },
        {
          "output_type": "display_data",
          "data": {
            "image/png": "[encoded data removed]",
            "text/plain": [
              "<Figure size 432x288 with 2 Axes>"
            ]
          },
          "metadata": {
            "tags": []
          }
        }
      ]
    },
    {
      "cell_type": "code",
      "metadata": {
        "id": "0HIf0NMUvswI",
        "colab_type": "code",
        "colab": {}
      },
      "source": [
        ""
      ],
      "execution_count": 0,
      "outputs": []
    },
    {
      "cell_type": "code",
      "metadata": {
        "id": "AfznpvY6vswK",
        "colab_type": "code",
        "outputId": "814bfc9b-4ba6-4422-fac4-24743b97868e",
        "colab": {
          "base_uri": "https://localhost:8080/",
          "height": 324
        }
      },
      "source": [
        "print(\"--------------------------------------------------- ROC Curve for XGBoost Classifier\")\n",
        "auc = roc_auc_score(y_test, preds)\n",
        "auc2 = roc_auc_score(y_train, predsTrain)\n",
        "print('AUC Test (Yellow line): %.3f' % auc)\n",
        "print('AUC Train (Green line): %.3f' % auc2)\n",
        "\n",
        "# calculate roc curve\n",
        "\n",
        "fpr, tpr, thresholds = roc_curve(y_test, predsTest)\n",
        "fpr2, tpr2, thresholds2 = roc_curve(y_train, predsTrain)\n",
        "\n",
        "# plot no skill\n",
        "plt.plot([0, 1], [0, 1], linestyle='--')\n",
        "# plot the roc curve for the model\n",
        "plt.plot(fpr, tpr, marker='.')\n",
        "# plot the roc curve for the model\n",
        "plt.plot(fpr2, tpr2, marker='.')\n",
        "# show the plot\n",
        "plt.show()"
      ],
      "execution_count": 31,
      "outputs": [
        {
          "output_type": "stream",
          "text": [
            "--------------------------------------------------- ROC Curve for XGBoost Classifier\n",
            "AUC Test (Yellow line): 0.695\n",
            "AUC Train (Green line): 0.664\n"
          ],
          "name": "stdout"
        },
        {
          "output_type": "display_data",
          "data": {
            "image/png": "[encoded data removed]",
            "text/plain": [
              "<Figure size 432x288 with 1 Axes>"
            ]
          },
          "metadata": {
            "tags": []
          }
        }
      ]
    },
    {
      "cell_type": "code",
      "metadata": {
        "id": "jCbbVCPmvswN",
        "colab_type": "code",
        "outputId": "b1c35702-1b3c-430e-9bf5-013a22458212",
        "colab": {
          "base_uri": "https://localhost:8080/",
          "height": 345
        }
      },
      "source": [
        "\n",
        "kfold = model_selection.KFold(n_splits=5, random_state=7)\n",
        "results = model_selection.cross_val_score(model_Grid_XGBoost, X, y, cv=kfold)\n",
        "print(\"Accuracy: Final mean: %.3f%% , Final standard deviation: (%.3f%%)\" % (results.mean()*100.0, results.std()*100.0))\n",
        "print('Accuracies from each of the 5 folds using kfold:',results)\n",
        "print(\"Variance of kfold accuracies:\",results.var())"
      ],
      "execution_count": 32,
      "outputs": [
        {
          "output_type": "stream",
          "text": [
            "Fitting 5 folds for each of 9 candidates, totalling 45 fits\n"
          ],
          "name": "stdout"
        },
        {
          "output_type": "stream",
          "text": [
            "[Parallel(n_jobs=1)]: Using backend SequentialBackend with 1 concurrent workers.\n",
            "[Parallel(n_jobs=1)]: Done  45 out of  45 | elapsed:  1.9min finished\n"
          ],
          "name": "stderr"
        },
        {
          "output_type": "stream",
          "text": [
            "Fitting 5 folds for each of 9 candidates, totalling 45 fits\n"
          ],
          "name": "stdout"
        },
        {
          "output_type": "stream",
          "text": [
            "[Parallel(n_jobs=1)]: Using backend SequentialBackend with 1 concurrent workers.\n",
            "[Parallel(n_jobs=1)]: Done  45 out of  45 | elapsed:  1.8min finished\n"
          ],
          "name": "stderr"
        },
        {
          "output_type": "stream",
          "text": [
            "Fitting 5 folds for each of 9 candidates, totalling 45 fits\n"
          ],
          "name": "stdout"
        },
        {
          "output_type": "stream",
          "text": [
            "[Parallel(n_jobs=1)]: Using backend SequentialBackend with 1 concurrent workers.\n",
            "[Parallel(n_jobs=1)]: Done  45 out of  45 | elapsed:  1.9min finished\n"
          ],
          "name": "stderr"
        },
        {
          "output_type": "stream",
          "text": [
            "Fitting 5 folds for each of 9 candidates, totalling 45 fits\n"
          ],
          "name": "stdout"
        },
        {
          "output_type": "stream",
          "text": [
            "[Parallel(n_jobs=1)]: Using backend SequentialBackend with 1 concurrent workers.\n",
            "[Parallel(n_jobs=1)]: Done  45 out of  45 | elapsed:  1.9min finished\n"
          ],
          "name": "stderr"
        },
        {
          "output_type": "stream",
          "text": [
            "Fitting 5 folds for each of 9 candidates, totalling 45 fits\n"
          ],
          "name": "stdout"
        },
        {
          "output_type": "stream",
          "text": [
            "[Parallel(n_jobs=1)]: Using backend SequentialBackend with 1 concurrent workers.\n",
            "[Parallel(n_jobs=1)]: Done  45 out of  45 | elapsed:  1.9min finished\n"
          ],
          "name": "stderr"
        },
        {
          "output_type": "stream",
          "text": [
            "Accuracy: Final mean: 70.928% , Final standard deviation: (0.720%)\n",
            "Accuracies from each of the 5 folds using kfold: [0.71 0.7  0.72 0.71 0.7 ]\n",
            "Variance of kfold accuracies: 5.1895126744969944e-05\n"
          ],
          "name": "stdout"
        }
      ]
    },
    {
      "cell_type": "code",
      "metadata": {
        "id": "T0FjpRy3vswP",
        "colab_type": "code",
        "colab": {}
      },
      "source": [
        ""
      ],
      "execution_count": 0,
      "outputs": []
    },
    {
      "cell_type": "markdown",
      "metadata": {
        "id": "MO-B1cLivswR",
        "colab_type": "text"
      },
      "source": [
        "# Random Forest Classifier"
      ]
    },
    {
      "cell_type": "code",
      "metadata": {
        "id": "S5OoJbuivswS",
        "colab_type": "code",
        "colab": {
          "base_uri": "https://localhost:8080/",
          "height": 135
        },
        "outputId": "63783840-5c43-4e84-9e40-9d4c05e519ad"
      },
      "source": [
        "#This Tunning Model May give better accuracy but it will take 5-7 hours to run on colab and 10-15 on average local machine\n",
        "#param_grid = {'bootstrap': [True, False],\n",
        "# 'max_depth': [10, 20, 30, 40, 50, 60, 70, 80, 90, 100, None],\n",
        "# 'max_features': np.arange(5,8),\n",
        "# 'min_samples_leaf': [10,50,100,200,500],\n",
        "# 'min_samples_split': [2, 5, 10],\n",
        "# 'n_estimators': [600]\n",
        "  #           }"
      ],
      "execution_count": 33,
      "outputs": [
        {
          "output_type": "error",
          "ename": "SyntaxError",
          "evalue": "ignored",
          "traceback": [
            "\u001b[0;36m  File \u001b[0;32m\"<ipython-input-33-b3127725f678>\"\u001b[0;36m, line \u001b[0;32m1\u001b[0m\n\u001b[0;31m    }\u001b[0m\n\u001b[0m    ^\u001b[0m\n\u001b[0;31mSyntaxError\u001b[0m\u001b[0;31m:\u001b[0m invalid syntax\n"
          ]
        }
      ]
    },
    {
      "cell_type": "code",
      "metadata": {
        "id": "fYOFVQlm95Fn",
        "colab_type": "code",
        "colab": {}
      },
      "source": [
        "param_grid = {\n",
        " 'bootstrap': [True, False],\n",
        " 'max_depth': [10, 50, 100, None],\n",
        " 'max_features': np.arange(5,8),\n",
        " 'min_samples_leaf': [10,50,100],\n",
        " 'min_samples_split': [2, 5, 10],\n",
        " 'n_estimators': [500]\n",
        "             }"
      ],
      "execution_count": 0,
      "outputs": []
    },
    {
      "cell_type": "code",
      "metadata": {
        "id": "DTtTm1LvvswW",
        "colab_type": "code",
        "colab": {}
      },
      "source": [
        "from sklearn.ensemble import RandomForestClassifier\n",
        "\n",
        "rf= RandomForestClassifier()\n",
        "np.random.seed(42)"
      ],
      "execution_count": 0,
      "outputs": []
    },
    {
      "cell_type": "code",
      "metadata": {
        "id": "8frJHy2svswZ",
        "colab_type": "code",
        "colab": {}
      },
      "source": [
        "grid_searcher= GridSearchCV(estimator=rf, param_grid=param_grid,\n",
        "                           cv=5, verbose=2)"
      ],
      "execution_count": 0,
      "outputs": []
    },
    {
      "cell_type": "code",
      "metadata": {
        "id": "zxthWKOEvswh",
        "colab_type": "code",
        "colab": {}
      },
      "source": [
        "grid_searcher.fit(X_train, y_train)\n"
      ],
      "execution_count": 0,
      "outputs": []
    },
    {
      "cell_type": "code",
      "metadata": {
        "id": "bNiEOTKjvswt",
        "colab_type": "code",
        "colab": {}
      },
      "source": [
        "np.set_printoptions(precision=2)\n",
        "\n",
        "class_names = dataset.columns \n",
        "\n",
        "# Plot non-normalized confusion matrix\n",
        "plot_confusion_matrix(y_test, predictionRandomForestTest, classes=class_names,\n",
        "                      title='Confusion matrix, without normalization')\n",
        "\n",
        "plt.show()"
      ],
      "execution_count": 0,
      "outputs": []
    },
    {
      "cell_type": "code",
      "metadata": {
        "id": "JfQph1wIvswv",
        "colab_type": "code",
        "colab": {}
      },
      "source": [
        "labels = [1, 0]\n",
        "cm = confusion_matrix(y_test, predictionRandomForestTest, labels)\n",
        "fig = plt.figure()\n",
        "ax = fig.add_subplot(111)\n",
        "cax = ax.matshow(cm)\n",
        "plt.title('Confusion matrix of the Random Forest\\n\\n')\n",
        "fig.colorbar(cax)\n",
        "ax.set_xticklabels([''] + labels)\n",
        "ax.set_yticklabels([''] + labels)\n",
        "plt.xlabel('Predicted')\n",
        "plt.ylabel('True')\n",
        "plt.show()"
      ],
      "execution_count": 0,
      "outputs": []
    },
    {
      "cell_type": "code",
      "metadata": {
        "id": "2MLds6Xtvswx",
        "colab_type": "code",
        "colab": {}
      },
      "source": [
        "importances = grid_searcher.best_estimator_.feature_importances_\n",
        "\n",
        "print (\"Sorted Feature Importance:\")\n",
        "sorted_feature_importance = sorted(zip(importances, dataset.columns), reverse=True)\n",
        "for i in sorted_feature_importance:\n",
        "    print(i)"
      ],
      "execution_count": 0,
      "outputs": []
    },
    {
      "cell_type": "code",
      "metadata": {
        "id": "mWUBpvWUbu9t",
        "colab_type": "code",
        "colab": {}
      },
      "source": [
        "# feature importance\n",
        "FeatureNames = list(dataset.columns.values)\n",
        "FeatureNames = FeatureNames[1:]\n",
        "\n",
        "# plot\n",
        "\n",
        "plot_bar_x(\"Feature Importance\",\"Feature Name\",\"Score\",FeatureNames,importances)\n",
        "\n",
        "\n",
        "plt.show()"
      ],
      "execution_count": 0,
      "outputs": []
    },
    {
      "cell_type": "code",
      "metadata": {
        "id": "s29wzzvzvswz",
        "colab_type": "code",
        "colab": {}
      },
      "source": [
        "predictionRandomForestTest = grid_searcher.best_estimator_.predict(X_test)\n",
        "predictionRandomForestTrain =grid_searcher.best_estimator_.predict(X_train)\n",
        "RandomForestTrainAccuracy = accuracy_score(y_train, predictionRandomForestTrain)\n",
        "RandomForestTestAccuracy = accuracy_score(y_test, predictionRandomForestTest)\n"
      ],
      "execution_count": 0,
      "outputs": []
    },
    {
      "cell_type": "markdown",
      "metadata": {
        "id": "fw5M9O9Wjony",
        "colab_type": "text"
      },
      "source": [
        ""
      ]
    },
    {
      "cell_type": "code",
      "metadata": {
        "id": "tmv2me1rvsw3",
        "colab_type": "code",
        "colab": {}
      },
      "source": [
        "print(\"--------------------------------------------------- ROC Curve for Random Forest Classifier\")\n",
        "auc = roc_auc_score(y_test, predictionRandomForestTest)\n",
        "auc2 = roc_auc_score(y_train, predictionRandomForestTrain)\n",
        "print('AUC Test (Yellow line): %.3f' % auc)\n",
        "print('AUC Train (Green line): %.3f' % auc2)\n",
        "\n",
        "# calculate roc curve\n",
        "\n",
        "fpr, tpr, thresholds = roc_curve(y_test, predictionRandomForestTest)\n",
        "fpr2, tpr2, thresholds2 = roc_curve(y_train, predictionRandomForestTrain)\n",
        "\n",
        "# plot no skill\n",
        "plt.plot([0, 1], [0, 1], linestyle='--')\n",
        "# plot the roc curve for the model\n",
        "plt.plot(fpr, tpr, marker='.')\n",
        "# plot the roc curve for the model\n",
        "plt.plot(fpr2, tpr2, marker='.')\n",
        "# show the plot\n",
        "plt.show()"
      ],
      "execution_count": 0,
      "outputs": []
    },
    {
      "cell_type": "markdown",
      "metadata": {
        "id": "z-9pgOm4vsw7",
        "colab_type": "text"
      },
      "source": [
        "# NEURAL NETWORK CLASSIFIER\n"
      ]
    },
    {
      "cell_type": "code",
      "metadata": {
        "id": "KzRll83avsw8",
        "colab_type": "code",
        "colab": {}
      },
      "source": [
        "from keras import regularizers,optimizers\n",
        "from keras.models import Sequential, Model, load_model\n",
        "from keras.layers import Dense, Conv2D, Flatten, MaxPool2D, Dropout, BatchNormalization,LeakyReLU\n",
        "from keras.preprocessing.image import ImageDataGenerator\n",
        "from keras.callbacks import ModelCheckpoint, Callback, EarlyStopping, ReduceLROnPlateau, LearningRateScheduler\n",
        "from keras.utils import to_categorical\n",
        "import tensorflow\n",
        "from keras.layers import Input, Activation, MaxPooling2D\n"
      ],
      "execution_count": 0,
      "outputs": []
    },
    {
      "cell_type": "code",
      "metadata": {
        "id": "0BVdaNbjZRgm",
        "colab_type": "code",
        "colab": {}
      },
      "source": [
        "\n",
        "from sklearn.model_selection import train_test_split\n",
        "X_train, X_valid, y_train, y_valid = train_test_split(X, y, test_size = 0.2, random_state=42)\n",
        "\n",
        "from sklearn.preprocessing import StandardScaler\n",
        "sc= StandardScaler()\n",
        "X_train=sc.fit_transform(X_train)\n",
        "X_valid=sc.transform(X_valid)"
      ],
      "execution_count": 0,
      "outputs": []
    },
    {
      "cell_type": "code",
      "metadata": {
        "id": "qns0FbPlJC54",
        "colab_type": "code",
        "colab": {}
      },
      "source": [
        "callbacks = [\n",
        "    EarlyStopping(patience=10, restore_best_weights=True, verbose=1),\n",
        "    ReduceLROnPlateau(factor=0.1, patience=3, min_lr=0.1, verbose=1),\n",
        "    ModelCheckpoint('best_model.h5', verbose=1, save_best_only=True)\n",
        "]"
      ],
      "execution_count": 0,
      "outputs": []
    },
    {
      "cell_type": "code",
      "metadata": {
        "id": "prepS9PriTiH",
        "colab_type": "code",
        "colab": {}
      },
      "source": [
        "from keras.regularizers import l2\n",
        "\n",
        "model = Sequential([\n",
        "    Dense(units=32, input_dim = 31,activation='relu'),\n",
        "    Dense(units=64,kernel_regularizer=l2(0.01), bias_regularizer=l2(0.01), activation='relu'),\n",
        "    Dense(units=32,kernel_regularizer=l2(0.01), bias_regularizer=l2(0.01), activation='relu'),\n",
        "    Dense(units=14,kernel_regularizer=l2(0.01), bias_regularizer=l2(0.01),activation='relu'),\n",
        "    Dense(1,activation='sigmoid'),\n",
        "])"
      ],
      "execution_count": 0,
      "outputs": []
    },
    {
      "cell_type": "code",
      "metadata": {
        "id": "iOGe86evJLUp",
        "colab_type": "code",
        "colab": {}
      },
      "source": [
        "model.compile(optimizer='adam',loss='binary_crossentropy',metrics=['accuracy'])\n"
      ],
      "execution_count": 0,
      "outputs": []
    },
    {
      "cell_type": "code",
      "metadata": {
        "id": "NvDMHLpoTnGo",
        "colab_type": "code",
        "colab": {}
      },
      "source": [
        "train_model = model.fit(X_train, y_train,batch_size=3, epochs=150,\n",
        "                        validation_data=(X_valid, y_valid),\n",
        "                        callbacks = callbacks)"
      ],
      "execution_count": 0,
      "outputs": []
    },
    {
      "cell_type": "code",
      "metadata": {
        "id": "rzDmBCP1JLbm",
        "colab_type": "code",
        "colab": {}
      },
      "source": [
        "model = load_model('best_model.h5')"
      ],
      "execution_count": 0,
      "outputs": []
    },
    {
      "cell_type": "code",
      "metadata": {
        "id": "5QfnJlpfJLii",
        "colab_type": "code",
        "colab": {}
      },
      "source": [
        "prediction_train = model.predict(X_train)\n",
        "prediction_train = prediction_train.flatten()\n",
        "prediction_train[prediction_train > 0.5] = 1\n",
        "prediction_train[prediction_train <= 0.5] = 0\n",
        "\n",
        "prediction_test=model.predict(X_valid)\n",
        "prediction_test = prediction_test.flatten()\n",
        "prediction_test[prediction_test > 0.5] = 1\n",
        "prediction_test[prediction_test <= 0.5] = 0\n",
        "\n",
        "NeuralNetworkTestAccuracy =   accuracy_score(y_valid,prediction_test)\n",
        "NeuralNetworkTrainAccuracy= accuracy_score(y_train,prediction_train)\n",
        "\n",
        "print(\"Train: \",NeuralNetworkTrainAccuracy)\n",
        "\n",
        "print(\"Test: \",NeuralNetworkTestAccuracy)\n",
        "neuralNetworkPrediction=model.predict(X_valid)\n",
        "\n",
        "np.set_printoptions(precision=2)\n",
        "\n",
        "class_names = dataset.columns \n",
        "\n",
        "# Plot non-normalized confusion matrix\n",
        "plot_confusion_matrix(y_valid, prediction_test, classes=class_names,\n",
        "                      title='Confusion matrix, without normalization')\n",
        "\n",
        "plt.show()"
      ],
      "execution_count": 0,
      "outputs": []
    },
    {
      "cell_type": "code",
      "metadata": {
        "id": "FpYP4y043Ncw",
        "colab_type": "code",
        "colab": {}
      },
      "source": [
        "print(\"--------------------------------------------------- ROC Curve for Neural Network Classifier\")\n",
        "auc = roc_auc_score(y_valid, prediction_test)\n",
        "auc2 = roc_auc_score(y_train, prediction_train)\n",
        "print('AUC Test (Yellow line): %.3f' % auc)\n",
        "print('AUC Train (Green line): %.3f' % auc2)\n",
        "\n",
        "# calculate roc curve\n",
        "\n",
        "fpr, tpr, thresholds = roc_curve(y_valid, prediction_test)\n",
        "fpr2, tpr2, thresholds2 = roc_curve(y_train, prediction_train)\n",
        "\n",
        "# plot no skill\n",
        "plt.plot([0, 1], [0, 1], linestyle='--')\n",
        "# plot the roc curve for the model\n",
        "plt.plot(fpr, tpr, marker='.')\n",
        "# plot the roc curve for the model\n",
        "plt.plot(fpr2, tpr2, marker='.')\n",
        "# show the plot\n",
        "plt.show()"
      ],
      "execution_count": 0,
      "outputs": []
    },
    {
      "cell_type": "code",
      "metadata": {
        "id": "kkW60whiX6k3",
        "colab_type": "code",
        "colab": {}
      },
      "source": [
        "plt.plot(train_model.history['acc'])\n",
        "plt.plot(train_model.history['val_acc'])\n",
        "plt.title('model accuracy')\n",
        "plt.ylabel('accuracy')\n",
        "plt.xlabel('epoch')\n",
        "plt.legend(['train', 'val'], loc='upper left')\n",
        "plt.show()"
      ],
      "execution_count": 0,
      "outputs": []
    },
    {
      "cell_type": "markdown",
      "metadata": {
        "id": "2xXReeqBX9Rv",
        "colab_type": "text"
      },
      "source": [
        "# Accuracy Bar Plot for Different Classifiers"
      ]
    },
    {
      "cell_type": "code",
      "metadata": {
        "id": "UFqVshGe3s4h",
        "colab_type": "code",
        "colab": {}
      },
      "source": [
        "import matplotlib.pyplot as plt\n",
        "import numpy as np\n",
        "label = ['XGBoost', 'Random Forest', 'Neural Network']\n",
        "data = [XGBoostTestAccuracy,RandomForestTestAccuracy,NeuralNetworkTestAccuracy]\n"
      ],
      "execution_count": 0,
      "outputs": []
    },
    {
      "cell_type": "code",
      "metadata": {
        "id": "XL6C23b3JJw8",
        "colab_type": "code",
        "colab": {}
      },
      "source": [
        "plot_bar_x(\"Accuracy Plot for the classifiers \",\"Classifier Name\",\"Accuracy\",label,data)"
      ],
      "execution_count": 0,
      "outputs": []
    }
  ]
}